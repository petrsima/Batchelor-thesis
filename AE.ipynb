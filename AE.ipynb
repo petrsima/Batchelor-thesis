{
 "cells": [
  {
   "cell_type": "markdown",
   "metadata": {},
   "source": [
    "## Načtení knihoven"
   ]
  },
  {
   "cell_type": "code",
   "execution_count": 3,
   "metadata": {
    "execution": {
     "iopub.execute_input": "2022-06-26T18:46:14.848176Z",
     "iopub.status.busy": "2022-06-26T18:46:14.847818Z",
     "iopub.status.idle": "2022-06-26T18:46:14.857765Z",
     "shell.execute_reply": "2022-06-26T18:46:14.857063Z",
     "shell.execute_reply.started": "2022-06-26T18:46:14.848133Z"
    }
   },
   "outputs": [],
   "source": [
    "import numpy as np\n",
    "import matplotlib.pyplot as plt\n",
    "import random\n",
    "import glob\n",
    "from PIL import Image\n",
    "from tensorflow import keras\n",
    "from tensorflow.keras import layers , callbacks\n",
    "from tensorflow.keras.layers import Conv2D, MaxPooling2D, UpSampling2D\n",
    "from tensorflow.keras.preprocessing.image import ImageDataGenerator\n",
    "from tensorflow.keras.models import Sequential\n",
    "import tensorflow as tf\n",
    "import os\n",
    "from tqdm import tqdm\n",
    "import cv2\n",
    "from keras.preprocessing.image import img_to_array\n",
    "from sklearn import metrics\n",
    "import itertools\n",
    "from sklearn.metrics import confusion_matrix , classification_report\n",
    "from sklearn.neighbors import KernelDensity"
   ]
  },
  {
   "cell_type": "markdown",
   "metadata": {},
   "source": [
    "## Normalizace a načtení dat"
   ]
  },
  {
   "cell_type": "code",
   "execution_count": 4,
   "metadata": {
    "execution": {
     "iopub.execute_input": "2022-06-26T18:46:18.773997Z",
     "iopub.status.busy": "2022-06-26T18:46:18.773749Z",
     "iopub.status.idle": "2022-06-26T18:46:18.777784Z",
     "shell.execute_reply": "2022-06-26T18:46:18.776953Z",
     "shell.execute_reply.started": "2022-06-26T18:46:18.773969Z"
    }
   },
   "outputs": [],
   "source": [
    "train_dir = '../input/screw-anomaly-dataset/screw_dataset/AE_dataset/train'\n",
    "test_dir = '../input/screw-anomaly-dataset/screw_dataset/AE_dataset/test'\n",
    "anomaly_dir = '../input/screw-anomaly-dataset/screw_dataset/AE_dataset/anomaly'"
   ]
  },
  {
   "cell_type": "code",
   "execution_count": 5,
   "metadata": {
    "execution": {
     "iopub.execute_input": "2022-06-26T18:46:21.396846Z",
     "iopub.status.busy": "2022-06-26T18:46:21.396169Z",
     "iopub.status.idle": "2022-06-26T18:46:21.514936Z",
     "shell.execute_reply": "2022-06-26T18:46:21.514253Z",
     "shell.execute_reply.started": "2022-06-26T18:46:21.396809Z"
    }
   },
   "outputs": [],
   "source": [
    "batch_size = 16\n",
    "image_size = (256,256)\n",
    "\n",
    "normalize = ImageDataGenerator(rescale=1./255)\n",
    "\n",
    "train_ds = normalize.flow_from_directory(\n",
    "    train_dir,\n",
    "    target_size = image_size,\n",
    "    batch_size = batch_size,\n",
    "    shuffle=True,\n",
    "    seed=3,\n",
    "    class_mode = 'input'\n",
    "    )"
   ]
  },
  {
   "cell_type": "markdown",
   "metadata": {},
   "source": [
    "## Autoencoder"
   ]
  },
  {
   "cell_type": "code",
   "execution_count": 6,
   "metadata": {
    "execution": {
     "iopub.execute_input": "2022-06-26T18:46:23.360090Z",
     "iopub.status.busy": "2022-06-26T18:46:23.359837Z",
     "iopub.status.idle": "2022-06-26T18:46:26.624668Z",
     "shell.execute_reply": "2022-06-26T18:46:26.622673Z",
     "shell.execute_reply.started": "2022-06-26T18:46:23.360061Z"
    }
   },
   "outputs": [],
   "source": [
    "# Encoder\n",
    "model = Sequential()\n",
    "model.add(Conv2D(32,(3,3), activation='relu', padding='same', input_shape=(256,256,3)))\n",
    "model.add(MaxPooling2D((2,2), padding='same'))\n",
    "model.add(Conv2D(64,(3,3), activation='relu', padding='same'))\n",
    "model.add(MaxPooling2D((2,2), padding='same'))\n",
    "model.add(Conv2D(128,(3,3), activation='relu', padding='same'))\n",
    "model.add(MaxPooling2D((2,2), padding='same'))\n",
    "model.add(Conv2D(256,(3,3), activation='relu', padding='same'))\n",
    "model.add(MaxPooling2D((2,2), padding='same'))\n",
    "model.add(Conv2D(512,(3,3), activation='relu', padding='same'))\n",
    "model.add(MaxPooling2D((2,2)))\n",
    "\n",
    "# Decoder\n",
    "model.add(Conv2D(512,(3,3), activation='relu', padding='same'))\n",
    "model.add(UpSampling2D((2,2)))\n",
    "model.add(Conv2D(256,(3,3), activation='relu', padding='same'))\n",
    "model.add(UpSampling2D((2,2)))\n",
    "model.add(Conv2D(128,(3,3), activation='relu', padding='same'))\n",
    "model.add(UpSampling2D((2,2)))\n",
    "model.add(Conv2D(64,(3,3), activation='relu', padding='same'))\n",
    "model.add(UpSampling2D((2,2)))\n",
    "model.add(Conv2D(32,(3,3), activation='relu', padding='same'))\n",
    "model.add(UpSampling2D((2,2)))\n",
    "\n",
    "model.add(Conv2D(3,(3,3), activation='sigmoid', padding='same'))"
   ]
  },
  {
   "cell_type": "code",
   "execution_count": 7,
   "metadata": {
    "execution": {
     "iopub.execute_input": "2022-06-26T18:23:02.729667Z",
     "iopub.status.busy": "2022-06-26T18:23:02.729400Z",
     "iopub.status.idle": "2022-06-26T18:23:02.755917Z",
     "shell.execute_reply": "2022-06-26T18:23:02.755241Z",
     "shell.execute_reply.started": "2022-06-26T18:23:02.729636Z"
    }
   },
   "outputs": [],
   "source": [
    "model.compile(optimizer='adam',\n",
    "              loss='mean_squared_error',\n",
    "              metrics=['mse'])\n",
    "\n",
    "model.summary()"
   ]
  },
  {
   "cell_type": "markdown",
   "metadata": {},
   "source": [
    "## Train model"
   ]
  },
  {
   "cell_type": "code",
   "execution_count": null,
   "metadata": {
    "execution": {
     "iopub.execute_input": "2022-05-24T12:26:07.342844Z",
     "iopub.status.busy": "2022-05-24T12:26:07.342071Z",
     "iopub.status.idle": "2022-05-24T12:49:45.817906Z",
     "shell.execute_reply": "2022-05-24T12:49:45.816949Z",
     "shell.execute_reply.started": "2022-05-24T12:26:07.342811Z"
    }
   },
   "outputs": [],
   "source": [
    "history = model.fit(train_ds,\n",
    "                    batch_size=16,\n",
    "                    shuffle=True,\n",
    "                    verbose=1,\n",
    "                    epochs=300)\n",
    "\n",
    "model.save(\"AE.h5\")"
   ]
  },
  {
   "cell_type": "code",
   "execution_count": 7,
   "metadata": {
    "execution": {
     "iopub.execute_input": "2022-06-26T18:46:31.552852Z",
     "iopub.status.busy": "2022-06-26T18:46:31.552600Z",
     "iopub.status.idle": "2022-06-26T18:46:33.583111Z",
     "shell.execute_reply": "2022-06-26T18:46:33.582378Z",
     "shell.execute_reply.started": "2022-06-26T18:46:31.552823Z"
    }
   },
   "outputs": [],
   "source": [
    "models_dir = '../input/modelsae/AE.h5'\n",
    "model = tf.keras.models.load_model(models_dir)"
   ]
  },
  {
   "cell_type": "code",
   "execution_count": 14,
   "metadata": {
    "execution": {
     "iopub.execute_input": "2022-06-26T18:46:53.963793Z",
     "iopub.status.busy": "2022-06-26T18:46:53.963529Z",
     "iopub.status.idle": "2022-06-26T18:46:54.051821Z",
     "shell.execute_reply": "2022-06-26T18:46:54.051140Z",
     "shell.execute_reply.started": "2022-06-26T18:46:53.963765Z"
    }
   },
   "outputs": [],
   "source": [
    "encoder = Sequential()\n",
    "encoder.add(Conv2D(32,(3,3), activation='relu', padding='same', input_shape=( 256, 256, 3), weights=model.layers[0].get_weights()) )\n",
    "encoder.add(MaxPooling2D((2, 2), padding='same'))\n",
    "encoder.add(Conv2D(64,(3,3), activation='relu', padding='same', weights=model.layers[2].get_weights()))\n",
    "encoder.add(MaxPooling2D((2, 2), padding='same'))\n",
    "encoder.add(Conv2D(128,(3,3), activation='relu', padding='same', weights=model.layers[4].get_weights()))\n",
    "encoder.add(MaxPooling2D((2, 2), padding='same'))\n",
    "encoder.add(Conv2D(256,(3,3), activation='relu', padding='same', weights=model.layers[6].get_weights()))\n",
    "encoder.add(MaxPooling2D((2, 2), padding='same'))\n",
    "encoder.add(Conv2D(512,(3,3), activation='relu', padding='same', weights=model.layers[8].get_weights()))\n",
    "\n",
    "encoder.summary()"
   ]
  },
  {
   "cell_type": "code",
   "execution_count": 8,
   "metadata": {
    "execution": {
     "iopub.execute_input": "2022-06-26T18:46:37.961436Z",
     "iopub.status.busy": "2022-06-26T18:46:37.961155Z",
     "iopub.status.idle": "2022-06-26T18:46:37.972064Z",
     "shell.execute_reply": "2022-06-26T18:46:37.971076Z",
     "shell.execute_reply.started": "2022-06-26T18:46:37.961384Z"
    }
   },
   "outputs": [],
   "source": [
    "normilize = tf.keras.Sequential([layers.Rescaling(1./255)])"
   ]
  },
  {
   "cell_type": "code",
   "execution_count": 9,
   "metadata": {
    "execution": {
     "iopub.execute_input": "2022-06-26T18:46:39.072140Z",
     "iopub.status.busy": "2022-06-26T18:46:39.071878Z",
     "iopub.status.idle": "2022-06-26T18:46:39.742994Z",
     "shell.execute_reply": "2022-06-26T18:46:39.742225Z",
     "shell.execute_reply.started": "2022-06-26T18:46:39.072110Z"
    }
   },
   "outputs": [],
   "source": [
    "good_data = []\n",
    "test_files = glob.glob('../input/screw-anomaly-dataset/screw_dataset/AE_dataset/test/good/*')\n",
    "for i in tqdm(test_files[0:19]):\n",
    "    img = cv2.imread(i,1)\n",
    "    img = cv2.cvtColor(img, cv2.COLOR_BGR2RGB)\n",
    "    img = cv2.resize(img,(256,256))\n",
    "    good_data.append(img)\n",
    "\n",
    "good_data = np.reshape(good_data, (len(good_data), 256, 256, 3))\n",
    "good_data = normilize.predict(good_data)"
   ]
  },
  {
   "cell_type": "code",
   "execution_count": 10,
   "metadata": {
    "execution": {
     "iopub.execute_input": "2022-06-26T18:46:40.612251Z",
     "iopub.status.busy": "2022-06-26T18:46:40.611561Z",
     "iopub.status.idle": "2022-06-26T18:46:41.750324Z",
     "shell.execute_reply": "2022-06-26T18:46:41.749637Z",
     "shell.execute_reply.started": "2022-06-26T18:46:40.612212Z"
    }
   },
   "outputs": [],
   "source": [
    "anomaly_data = []\n",
    "anomaly_files = glob.glob('../input/screw-anomaly-dataset/screw_dataset/AE_dataset/anomaly/*/*')\n",
    "for i in tqdm(anomaly_files[0:45]):\n",
    "    img = cv2.imread(i,1)\n",
    "    img = cv2.cvtColor(img, cv2.COLOR_BGR2RGB)\n",
    "    img = cv2.resize(img,(256,256))\n",
    "    anomaly_data.append(img)\n",
    "    \n",
    "anomaly_data = np.reshape(anomaly_data, (len(anomaly_data), 256, 256, 3))\n",
    "anomaly_data = normilize.predict(anomaly_data)"
   ]
  },
  {
   "cell_type": "code",
   "execution_count": 11,
   "metadata": {
    "execution": {
     "iopub.execute_input": "2022-06-26T18:46:42.270955Z",
     "iopub.status.busy": "2022-06-26T18:46:42.270701Z",
     "iopub.status.idle": "2022-06-26T18:46:42.982813Z",
     "shell.execute_reply": "2022-06-26T18:46:42.982072Z",
     "shell.execute_reply.started": "2022-06-26T18:46:42.270926Z"
    }
   },
   "outputs": [],
   "source": [
    "test_good_data = []\n",
    "test_good_files = glob.glob('../input/screw-anomaly-dataset/screw_dataset/AE_dataset/test/good/*')\n",
    "for i in tqdm(test_good_files[20:42]):\n",
    "    img = cv2.imread(i,1)\n",
    "    img = cv2.cvtColor(img, cv2.COLOR_BGR2RGB)\n",
    "    img = cv2.resize(img,(256,256))\n",
    "    test_good_data.append(img)\n",
    "\n",
    "test_good_data = np.reshape(test_good_data, (len(test_good_data), 256, 256, 3))\n",
    "test_good_data = normilize.predict(test_good_data)"
   ]
  },
  {
   "cell_type": "code",
   "execution_count": 12,
   "metadata": {
    "execution": {
     "iopub.execute_input": "2022-06-26T18:46:43.882304Z",
     "iopub.status.busy": "2022-06-26T18:46:43.881585Z",
     "iopub.status.idle": "2022-06-26T18:46:45.544656Z",
     "shell.execute_reply": "2022-06-26T18:46:45.543869Z",
     "shell.execute_reply.started": "2022-06-26T18:46:43.882265Z"
    }
   },
   "outputs": [],
   "source": [
    "test_anomaly_data = []\n",
    "test_anomaly_files = glob.glob('../input/screw-anomaly-dataset/screw_dataset/AE_dataset/anomaly/*/*')\n",
    "for i in tqdm(test_anomaly_files[46:120]):\n",
    "    img = cv2.imread(i,1)\n",
    "    img = cv2.cvtColor(img, cv2.COLOR_BGR2RGB)\n",
    "    img = cv2.resize(img,(256,256))\n",
    "    test_anomaly_data.append(img)\n",
    "    \n",
    "test_anomaly_data = np.reshape(test_anomaly_data, (len(test_anomaly_data), 256, 256, 3))\n",
    "test_anomaly_data = normilize.predict(test_anomaly_data)"
   ]
  },
  {
   "cell_type": "code",
   "execution_count": 15,
   "metadata": {
    "execution": {
     "iopub.execute_input": "2022-06-26T18:46:58.506177Z",
     "iopub.status.busy": "2022-06-26T18:46:58.505917Z",
     "iopub.status.idle": "2022-06-26T18:47:19.579499Z",
     "shell.execute_reply": "2022-06-26T18:47:19.578726Z",
     "shell.execute_reply.started": "2022-06-26T18:46:58.506148Z"
    }
   },
   "outputs": [],
   "source": [
    "encoded_images = encoder.predict_generator(train_ds)\n",
    "encoder_output_shape = encoder.output_shape\n",
    "out_vector_shape = encoder_output_shape[1]*encoder_output_shape[2]*encoder_output_shape[3]\n",
    "encoded_images_vector = [np.reshape(img, (out_vector_shape)) for img in encoded_images]"
   ]
  },
  {
   "cell_type": "code",
   "execution_count": 16,
   "metadata": {
    "execution": {
     "iopub.execute_input": "2022-06-26T18:47:19.581444Z",
     "iopub.status.busy": "2022-06-26T18:47:19.581181Z",
     "iopub.status.idle": "2022-06-26T18:47:22.041320Z",
     "shell.execute_reply": "2022-06-26T18:47:22.040563Z",
     "shell.execute_reply.started": "2022-06-26T18:47:19.581409Z"
    }
   },
   "outputs": [],
   "source": [
    "ref_density = KernelDensity(kernel='gaussian', bandwidth=0.2).fit(encoded_images_vector)"
   ]
  },
  {
   "cell_type": "code",
   "execution_count": 17,
   "metadata": {
    "execution": {
     "iopub.execute_input": "2022-06-26T18:47:41.431113Z",
     "iopub.status.busy": "2022-06-26T18:47:41.430842Z",
     "iopub.status.idle": "2022-06-26T18:47:41.440472Z",
     "shell.execute_reply": "2022-06-26T18:47:41.439586Z",
     "shell.execute_reply.started": "2022-06-26T18:47:41.431083Z"
    }
   },
   "outputs": [],
   "source": [
    "def density_and_recon_err(batch_images):\n",
    "    density_list=[]\n",
    "    recon_error_list=[]\n",
    "    for im in tqdm(range(0, batch_images.shape[0]-1)):\n",
    "        \n",
    "        img  = batch_images[im]\n",
    "        img = img[np.newaxis, :,:,:]\n",
    "        encoded_img = encoder.predict([[img]],verbose=0)\n",
    "        encoded_img = [np.reshape(img, (out_vector_shape)) for img in encoded_img]\n",
    "        density = ref_density.score_samples(encoded_img)[0]\n",
    "        reconstruction = model.predict([[img]],verbose=0)\n",
    "        reconstruction_error = model.evaluate([reconstruction],[[img]], batch_size = 1,verbose=0)[0]\n",
    "        density_list.append(density)\n",
    "        recon_error_list.append(reconstruction_error)\n",
    "        \n",
    "    average_density = np.mean(np.array(density_list)) \n",
    "    stdev_density = np.std(np.array(density_list))\n",
    "    average_recon_error = np.mean(np.array(recon_error_list))\n",
    "    stdev_recon_error = np.std(np.array(recon_error_list))\n",
    "    \n",
    "    return density_list,average_density,stdev_density,recon_error_list,average_recon_error,stdev_recon_error"
   ]
  },
  {
   "cell_type": "code",
   "execution_count": 18,
   "metadata": {
    "execution": {
     "iopub.execute_input": "2022-06-26T18:47:42.601901Z",
     "iopub.status.busy": "2022-06-26T18:47:42.601333Z",
     "iopub.status.idle": "2022-06-26T18:47:55.877197Z",
     "shell.execute_reply": "2022-06-26T18:47:55.876553Z",
     "shell.execute_reply.started": "2022-06-26T18:47:42.601864Z"
    }
   },
   "outputs": [],
   "source": [
    "test_values = density_and_recon_err(good_data)\n",
    "anomaly_values = density_and_recon_err(anomaly_data)\n"
   ]
  },
  {
   "cell_type": "code",
   "execution_count": 19,
   "metadata": {
    "execution": {
     "iopub.execute_input": "2022-06-26T18:47:55.879576Z",
     "iopub.status.busy": "2022-06-26T18:47:55.879040Z",
     "iopub.status.idle": "2022-06-26T18:47:55.887563Z",
     "shell.execute_reply": "2022-06-26T18:47:55.886847Z",
     "shell.execute_reply.started": "2022-06-26T18:47:55.879540Z"
    }
   },
   "outputs": [],
   "source": [
    "print(\"Test Avg.Density = \" + str(test_values[1]) + \"(\" + str(test_values[2]) +\")\" )\n",
    "print(\"Test Rec.Error = \" + str(test_values[4]) + \"(\" + str(test_values[5]) +\")\" )\n",
    "print(\"Anomaly Avg.Density = \" + str(anomaly_values[1]) + \"(\" + str(anomaly_values[2]) +\")\" )\n",
    "print(\"Anomaly Rec.Error = \" + str(anomaly_values[4]) + \"(\" + str(anomaly_values[5]) +\")\" )"
   ]
  },
  {
   "cell_type": "code",
   "execution_count": 20,
   "metadata": {
    "execution": {
     "iopub.execute_input": "2022-06-26T18:47:55.889377Z",
     "iopub.status.busy": "2022-06-26T18:47:55.888917Z",
     "iopub.status.idle": "2022-06-26T18:47:56.167110Z",
     "shell.execute_reply": "2022-06-26T18:47:56.166286Z",
     "shell.execute_reply.started": "2022-06-26T18:47:55.889340Z"
    }
   },
   "outputs": [],
   "source": [
    "fig, ax = plt.subplots(figsize=(8, 15))\n",
    "ax.set_aspect(5000)\n",
    "\n",
    "x1 = test_values[0]\n",
    "y1 = test_values[3]\n",
    "x2 = anomaly_values[0]\n",
    "y2 = anomaly_values[3]\n",
    "\n",
    "ax.scatter(x1, y1, color=\"g\",label='Snímky bez vady')\n",
    "ax.scatter(x2, y2, color=\"r\", label= 'Snímky s vadou')\n",
    "\n",
    "\n",
    "ax.set_xlim(90482.5,90500)\n",
    "ax.set_ylim(0.0008, 0.0028)\n",
    "plt.xlabel(\"Odhad hustoty\",fontsize=12)\n",
    "plt.ylabel(\"Rekonstrkční chyba\",fontsize=12)\n",
    "plt.legend()\n",
    "\n",
    "plt.show()"
   ]
  },
  {
   "cell_type": "code",
   "execution_count": 21,
   "metadata": {
    "execution": {
     "iopub.execute_input": "2022-06-26T18:47:56.170259Z",
     "iopub.status.busy": "2022-06-26T18:47:56.169764Z",
     "iopub.status.idle": "2022-06-26T18:48:14.733417Z",
     "shell.execute_reply": "2022-06-26T18:48:14.732699Z",
     "shell.execute_reply.started": "2022-06-26T18:47:56.170213Z"
    }
   },
   "outputs": [],
   "source": [
    "def evaluation(batch_images,type):\n",
    "    predict = []\n",
    "    truth = []\n",
    "    density_max = 90496\n",
    "    reconstruction_error_max = 0.00148\n",
    "    \n",
    "    for im in tqdm(range(0, batch_images.shape[0])):\n",
    "        img  = batch_images[im]\n",
    "        img = img[np.newaxis, :,:,:]\n",
    "        \n",
    "        encoded_img = encoder.predict([[img]],verbose=0) \n",
    "        encoded_img = [np.reshape(img, (out_vector_shape)) for img in encoded_img] \n",
    "        density = ref_density.score_samples(encoded_img)[0] \n",
    "        \n",
    "        reconstruction = model.predict([[img]],verbose=0)\n",
    "        reconstruction_error = model.evaluate([reconstruction],[[img]], batch_size = 1,verbose=0)[0]\n",
    "    \n",
    "        if density < density_max and reconstruction_error < reconstruction_error_max:\n",
    "            predict.append(['good'])\n",
    "            truth.append(type)\n",
    "        else:\n",
    "            predict.append(['anomaly'])\n",
    "            truth.append(type)\n",
    "    prediction=[truth,predict]\n",
    "    return prediction\n",
    "\n",
    "anomaly_ev = evaluation(test_anomaly_data, ['anomaly'])\n",
    "test_ev = evaluation(test_good_data, ['good'])\n",
    "total_ev = [anomaly_ev[0] + test_ev[0], anomaly_ev[1] + test_ev[1]]"
   ]
  },
  {
   "cell_type": "code",
   "execution_count": 22,
   "metadata": {
    "execution": {
     "iopub.execute_input": "2022-06-26T18:48:14.735305Z",
     "iopub.status.busy": "2022-06-26T18:48:14.735017Z",
     "iopub.status.idle": "2022-06-26T18:48:14.982962Z",
     "shell.execute_reply": "2022-06-26T18:48:14.982204Z",
     "shell.execute_reply.started": "2022-06-26T18:48:14.735266Z"
    }
   },
   "outputs": [],
   "source": [
    "image_true = total_ev[0]\n",
    "image_predict = total_ev[1]\n",
    "cm = confusion_matrix(y_true=image_true, y_pred=image_predict)\n",
    "\n",
    "def plot_confusion_matrix(cm,\n",
    "                          classes,\n",
    "                          cmap=plt.cm.Reds):\n",
    "\n",
    "    plt.imshow(cm, interpolation='nearest', cmap=cmap)\n",
    "    plt.colorbar()\n",
    "    tick_marks = np.arange(len(classes))\n",
    "    plt.xticks(tick_marks, classes, rotation=90)\n",
    "    plt.yticks(tick_marks, classes)\n",
    "\n",
    "    thresh = cm.max() / 2.\n",
    "    for i, j in itertools.product(range(cm.shape[0]), range(cm.shape[1])):\n",
    "        plt.text(j, i, cm[i, j],\n",
    "            horizontalalignment=\"center\",\n",
    "            color=\"white\" if cm[i, j] > thresh else \"black\")\n",
    "\n",
    "    plt.tight_layout()\n",
    "    plt.ylabel('Skutečnost',fontsize=15)\n",
    "    plt.xlabel('Predikce',fontsize=15)\n",
    "\n",
    "plot_confusion_matrix(cm=cm,classes = ['S vadou','Bez vady'])\n",
    "print(classification_report(image_true, image_predict, target_names=['S vadou','Bez vady']))"
   ]
  }
 ],
 "metadata": {
  "kernelspec": {
   "display_name": "Python 3 (ipykernel)",
   "language": "python",
   "name": "python3"
  },
  "language_info": {
   "codemirror_mode": {
    "name": "ipython",
    "version": 3
   },
   "file_extension": ".py",
   "mimetype": "text/x-python",
   "name": "python",
   "nbconvert_exporter": "python",
   "pygments_lexer": "ipython3",
   "version": "3.9.7"
  }
 },
 "nbformat": 4,
 "nbformat_minor": 4
}
