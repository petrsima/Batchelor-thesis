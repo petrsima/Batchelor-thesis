{
 "cells": [
  {
   "cell_type": "markdown",
   "id": "f5ba6e93",
   "metadata": {},
   "source": [
    "## Načtení knihoven"
   ]
  },
  {
   "cell_type": "code",
   "execution_count": 1,
   "id": "13a9aafe",
   "metadata": {},
   "outputs": [],
   "source": [
    "import matplotlib.pyplot as plt\n",
    "import numpy as np\n",
    "import os\n",
    "import shutil\n",
    "from tqdm.auto import tqdm\n",
    "import time"
   ]
  },
  {
   "cell_type": "markdown",
   "id": "05db14d5",
   "metadata": {},
   "source": [
    "## Funkce pro rozdělení původního souboru"
   ]
  },
  {
   "cell_type": "code",
   "execution_count": 2,
   "id": "e589fb87",
   "metadata": {},
   "outputs": [],
   "source": [
    "def ds_distribution(org_ds_path,distribution):\n",
    "    os.chdir(r'\\Users\\HP\\Documents\\GIT-BP')\n",
    "    ds_split_names = ['train', 'valid', 'test']\n",
    "    src_orig = org_ds_path + '\\\\test'\n",
    "    categories = os.listdir(src_orig)\n",
    "    new_ds_path = \"Screw_ds(\" + str(distribution[0]) + \",\" + str(distribution[1]) + \",\" + str(distribution[2]) + \")\" \n",
    "    \n",
    "    if not os.path.exists(new_ds_path):\n",
    "        os.makedirs(new_ds_path)\n",
    "        os.chdir(new_ds_path)\n",
    "        new_ds_dir=os.getcwd()\n",
    "        \n",
    "        for i in ds_split_names:\n",
    "            if not os.path.exists(i):\n",
    "                os.makedirs(i)\n",
    "                os.chdir(i)\n",
    "                for j in categories:\n",
    "                    os.makedirs(j)\n",
    "            os.chdir(new_ds_dir)\n",
    "        \n",
    "        all_new = new_ds_dir + '\\\\All_images'\n",
    "        shutil.copytree(src_orig, all_new)\n",
    "        \n",
    "        train_good_imgs_dir = org_ds_path + '\\\\train\\good'\n",
    "        train_good_imgs_list = os.listdir(train_good_imgs_dir)\n",
    "        for n in train_good_imgs_list:\n",
    "            shutil.copy(train_good_imgs_dir + \"\\\\\" + n,\n",
    "            all_new + \"\\\\good\" +\"\\\\0\" + n)\n",
    "        \n",
    "        category_list = os.listdir(all_new)\n",
    "        [ a, b, c] = distribution\n",
    "        ds_split_names = ['train', 'valid', 'test']\n",
    "        dst_ = new_ds_dir + \"\\\\\"\n",
    "        dst_train = dst_ + ds_split_names[0]\n",
    "        dst_valid = dst_ + ds_split_names[1]\n",
    "        dst_test = dst_ + ds_split_names[2]\n",
    "        \n",
    "        for i in tqdm(category_list):\n",
    "            cat = all_new + \"\\\\\" + i\n",
    "            img_names = os.listdir(cat)\n",
    "            num_of_items = len(img_names)\n",
    "            a_items = int(num_of_items*(distribution[0]/100))\n",
    "            b_items = int(num_of_items*(distribution[1]/100))\n",
    "            c_items = int(num_of_items*(distribution[2]/100))\n",
    "            for a in img_names[:a_items]:\n",
    "                shutil.copy(cat + \"\\\\\" + a,\n",
    "                            dst_train + \"\\\\\" + i + \"\\\\\" + a)\n",
    "            for b in img_names[a_items:(a_items+b_items)]:\n",
    "                shutil.copy(cat + \"\\\\\" + b,\n",
    "                            dst_valid + \"\\\\\" + i + \"\\\\\" + b)\n",
    "            for c in img_names[(a_items+b_items):]:\n",
    "                shutil.copy(cat + \"\\\\\" + c,\n",
    "                            dst_test + \"\\\\\" + i + \"\\\\\" + c)\n",
    "        time.sleep(0.1)\n",
    "        \n",
    "        print(\"New dataset folder made! \\n \\n\" + \"Dataset directory:\\t\" + new_ds_dir)\n",
    "        os.chdir(r'\\Users\\HP\\Documents\\GIT-BP')\n",
    "        shutil.rmtree(all_new)\n",
    "    else:\n",
    "        os.chdir(r'\\Users\\HP\\Documents\\GIT-BP')\n",
    "        print(\"Already made!\")"
   ]
  },
  {
   "cell_type": "markdown",
   "id": "f704d00c",
   "metadata": {},
   "source": [
    "## Použití funkce"
   ]
  },
  {
   "cell_type": "code",
   "execution_count": 3,
   "id": "e4253361",
   "metadata": {
    "scrolled": true
   },
   "outputs": [
    {
     "data": {
      "application/vnd.jupyter.widget-view+json": {
       "model_id": "a6477cfb0c8b4124a5dabf66518c04da",
       "version_major": 2,
       "version_minor": 0
      },
      "text/plain": [
       "  0%|          | 0/6 [00:00<?, ?it/s]"
      ]
     },
     "metadata": {},
     "output_type": "display_data"
    },
    {
     "name": "stdout",
     "output_type": "stream",
     "text": [
      "New dataset folder made! \n",
      " \n",
      "Dataset directory:\tC:\\Users\\HP\\Documents\\GIT-BP\\Screw_ds(70,15,15)\n"
     ]
    }
   ],
   "source": [
    "org_ds_path = r\"C:\\Users\\HP\\Documents\\GIT-BP\\screw_orig\"\n",
    "distribution = [70, 15, 15]\n",
    "\n",
    "f = ds_distribution(org_ds_path,distribution)"
   ]
  }
 ],
 "metadata": {
  "kernelspec": {
   "display_name": "Python 3 (ipykernel)",
   "language": "python",
   "name": "python3"
  },
  "language_info": {
   "codemirror_mode": {
    "name": "ipython",
    "version": 3
   },
   "file_extension": ".py",
   "mimetype": "text/x-python",
   "name": "python",
   "nbconvert_exporter": "python",
   "pygments_lexer": "ipython3",
   "version": "3.9.7"
  }
 },
 "nbformat": 4,
 "nbformat_minor": 5
}
