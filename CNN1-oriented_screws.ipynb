{
 "cells": [
  {
   "cell_type": "markdown",
   "id": "1ffe19e2",
   "metadata": {},
   "source": [
    "# PŘÍPRAVA DATASETU"
   ]
  },
  {
   "cell_type": "markdown",
   "id": "8387a759",
   "metadata": {},
   "source": [
    "### Načtení potřebných knihoven"
   ]
  },
  {
   "cell_type": "code",
   "execution_count": 2,
   "id": "9a8841b7",
   "metadata": {},
   "outputs": [],
   "source": [
    "import matplotlib.pyplot as plt\n",
    "import numpy as np\n",
    "import os\n",
    "import shutil\n",
    "import cv2 as cv\n",
    "from tqdm.auto import tqdm\n",
    "import time\n",
    "import PIL\n",
    "from PIL import Image\n",
    "import tensorflow as tf\n",
    "from tensorflow import keras\n",
    "from tensorflow.keras import layers , callbacks\n",
    "from tensorflow.keras.models import Sequential\n",
    "import tensorflow_datasets as tfds\n",
    "import tensorflow_hub as hub\n",
    "from tensorflow.keras.layers.experimental import preprocessing\n",
    "\n",
    "from tensorflow.compat.v1 import ConfigProto\n",
    "from tensorflow.compat.v1 import InteractiveSession\n",
    "\n",
    "import pathlib\n",
    "import pandas as pd\n",
    "import matplotlib as mpl\n",
    "\n",
    "from sklearn.metrics import confusion_matrix , classification_report\n",
    "import itertools"
   ]
  },
  {
   "cell_type": "markdown",
   "id": "64031e89",
   "metadata": {},
   "source": [
    "### Ověření grafických procesorů"
   ]
  },
  {
   "cell_type": "code",
   "execution_count": null,
   "id": "1f0cd925",
   "metadata": {
    "scrolled": true
   },
   "outputs": [],
   "source": [
    "print(\"Num GPUs Available: \", len(tf.config.list_physical_devices('GPU')))\n",
    "\n",
    "gpus = tf.config.list_physical_devices('GPU')\n",
    "if gpus:\n",
    "  # Restrict TensorFlow to only use the first GPU\n",
    "  try:\n",
    "    tf.config.set_visible_devices(gpus[0], 'GPU')\n",
    "    logical_gpus = tf.config.list_logical_devices('GPU')\n",
    "    print(len(gpus), \"Physical GPUs,\", len(logical_gpus), \"Logical GPU\")\n",
    "  except RuntimeError as e:\n",
    "    # Visible devices must be set before GPUs have been initialized\n",
    "    print(e)"
   ]
  },
  {
   "cell_type": "markdown",
   "id": "f5ec031f",
   "metadata": {},
   "source": [
    "## Načtení dat do potřebné datové struktury"
   ]
  },
  {
   "cell_type": "markdown",
   "id": "0196e88f",
   "metadata": {},
   "source": [
    "### Cesty k datasetu"
   ]
  },
  {
   "cell_type": "code",
   "execution_count": 2,
   "id": "9deec6b3",
   "metadata": {},
   "outputs": [],
   "source": [
    "dataset_path = r\"C:\\Users\\HP\\Documents\\GIT-BP\\Screw_ds(50,30,20)_oriented\"\n",
    "\n",
    "train_path = pathlib.Path(dataset_path + '/train')\n",
    "valid_path = pathlib.Path(dataset_path + '/valid')\n",
    "test_path  = pathlib.Path(dataset_path + '/test')"
   ]
  },
  {
   "cell_type": "markdown",
   "id": "60c7b732",
   "metadata": {},
   "source": [
    "### Vytvoření datové struktury"
   ]
  },
  {
   "cell_type": "code",
   "execution_count": 3,
   "id": "5b49e35f",
   "metadata": {
    "scrolled": true
   },
   "outputs": [
    {
     "name": "stdout",
     "output_type": "stream",
     "text": [
      "Found 238 files belonging to 6 classes.\n",
      "Found 141 files belonging to 6 classes.\n",
      "Found 101 files belonging to 6 classes.\n",
      "['good', 'manipulated_front', 'scratch_head', 'scratch_neck', 'thread_side', 'thread_top']\n"
     ]
    }
   ],
   "source": [
    "labels='inferred'\n",
    "    #Either \"inferred\" (labels are generated from the directory structure),or a list/tuple of integer labels of the same size as the number of image files found in the directory.\n",
    "    #Labels should be sorted according to the alphanumeric order of the image file paths (obtained via os.walk(directory) in Python).\n",
    "\n",
    "label_mode='categorical'\n",
    "    #'int': means that the labels are encoded as integers (e.g. for sparse_categorical_crossentropy loss).\n",
    "    #'categorical' means that the labels are encoded as a categorical vector (e.g. for categorical_crossentropy loss).\n",
    "    #'binary' means that the labels (there can be only 2) are encoded as float32 scalars with values 0 or 1 (e.g. for binary_crossentropy).\n",
    "\n",
    "color_mode='rgb'\n",
    "    #One of \"grayscale\", \"rgb\", \"rgba\".\n",
    "    #Default: \"rgb\". Whether the images will be converted to have 1, 3, or 4 channels.\n",
    "\n",
    "image_size=(224, 224)\n",
    "    #Size to resize images to after they are read from disk.\n",
    "    #Defaults to (256, 256). Since the pipeline processes batches of images that must all have the same size, this must be provided.\n",
    "\n",
    "batch_size= 16\n",
    "    #Size of the batches of data. Default: 32.\n",
    "\n",
    "shuffle=True\n",
    "    #Whether to shuffle the data. Default: True. If set to False, sorts the data in alphanumeric order.\n",
    "\n",
    "seed=3\n",
    "    #Optional random seed for shuffling and transformations.\n",
    "\n",
    "train_ds = tf.keras.utils.image_dataset_from_directory(\n",
    "    train_path, \n",
    "    labels=labels,\n",
    "    label_mode=label_mode,\n",
    "    color_mode=color_mode,\n",
    "    image_size=image_size,\n",
    "    shuffle=shuffle,\n",
    "    seed=seed)\n",
    "\n",
    "valid_ds = tf.keras.utils.image_dataset_from_directory(\n",
    "    valid_path, \n",
    "    labels=labels,\n",
    "    label_mode=label_mode,\n",
    "    color_mode=color_mode,\n",
    "    image_size=image_size,\n",
    "    shuffle=shuffle,\n",
    "    seed=seed)\n",
    "\n",
    "test_ds = tf.keras.utils.image_dataset_from_directory(\n",
    "    test_path, \n",
    "    labels=labels,\n",
    "    label_mode=label_mode,\n",
    "    color_mode=color_mode,\n",
    "    image_size=image_size,\n",
    "    shuffle=shuffle,\n",
    "    seed=seed)\n",
    "\n",
    "class_names = test_ds.class_names\n",
    "print(class_names)"
   ]
  },
  {
   "cell_type": "code",
   "execution_count": 4,
   "id": "2235fcdf",
   "metadata": {},
   "outputs": [],
   "source": [
    "data_augmentation = tf.keras.Sequential([preprocessing.RandomFlip('horizontal')])"
   ]
  },
  {
   "cell_type": "markdown",
   "id": "a3da03fe",
   "metadata": {},
   "source": [
    "#### Předání velikoti obrázků dalším funkcím"
   ]
  },
  {
   "cell_type": "code",
   "execution_count": 5,
   "id": "31979b25",
   "metadata": {},
   "outputs": [],
   "source": [
    "a,b = image_size\n",
    "input_shape = (a,b,3)"
   ]
  },
  {
   "cell_type": "markdown",
   "id": "2973a353",
   "metadata": {},
   "source": [
    "### Vizualizace datasetu"
   ]
  },
  {
   "cell_type": "code",
   "execution_count": 6,
   "id": "0f5e24af",
   "metadata": {
    "scrolled": false
   },
   "outputs": [
    {
     "data": {
      "image/png": "[encoded data removed]",
      "text/plain": [
       "<Figure size 1080x1080 with 5 Axes>"
      ]
     },
     "metadata": {
      "needs_background": "light"
     },
     "output_type": "display_data"
    }
   ],
   "source": [
    "plt.figure(figsize=(15, 15))\n",
    "for images, labels in train_ds.take(1):\n",
    "    for i in range(5):\n",
    "        ax = plt.subplot(5, 5, i+1)\n",
    "        plt.imshow(images[i].numpy().astype(\"uint8\"))\n",
    "        plt.title(class_names[np.argmax(labels[i].numpy())])\n",
    "        plt.axis(\"off\")"
   ]
  },
  {
   "cell_type": "markdown",
   "id": "d94db4b4",
   "metadata": {},
   "source": [
    "## Data pipeline"
   ]
  },
  {
   "cell_type": "code",
   "execution_count": 7,
   "id": "115c0a41",
   "metadata": {},
   "outputs": [],
   "source": [
    "AUTOTUNE = tf.data.experimental.AUTOTUNE\n",
    "\n",
    "train_ds = (\n",
    "    train_ds\n",
    "    .cache()\n",
    "    .prefetch(buffer_size=AUTOTUNE)\n",
    ")\n",
    "test_ds = (\n",
    "    test_ds\n",
    "    .cache()\n",
    "    .prefetch(buffer_size=AUTOTUNE)\n",
    ")\n",
    "valid_ds = (\n",
    "    valid_ds\n",
    "    .cache()\n",
    "    .prefetch(buffer_size=AUTOTUNE)\n",
    ")"
   ]
  },
  {
   "cell_type": "markdown",
   "id": "049f984e",
   "metadata": {},
   "source": [
    "## Konvoluční neuronová síť"
   ]
  },
  {
   "cell_type": "markdown",
   "id": "8fe33787",
   "metadata": {},
   "source": [
    "### Normalization"
   ]
  },
  {
   "cell_type": "code",
   "execution_count": 8,
   "id": "21a84aec",
   "metadata": {},
   "outputs": [],
   "source": [
    "normalization_layer = tf.keras.layers.Rescaling(1./255)\n",
    "train_ds = train_ds.map(lambda x, y: (normalization_layer(x), y))\n",
    "valid_ds = valid_ds.map(lambda x, y: (normalization_layer(x), y))\n",
    "test_ds = test_ds.map(lambda x, y: (normalization_layer(x), y))"
   ]
  },
  {
   "cell_type": "markdown",
   "id": "fbae2ba7",
   "metadata": {},
   "source": [
    "### Data augmentation"
   ]
  },
  {
   "cell_type": "markdown",
   "id": "e62edf7d",
   "metadata": {},
   "source": [
    "### Předtrénovaná síť"
   ]
  },
  {
   "cell_type": "code",
   "execution_count": 9,
   "id": "7f95ab2b",
   "metadata": {},
   "outputs": [],
   "source": [
    "base_model = tf.keras.applications.vgg19.VGG19(\n",
    "    include_top=False,\n",
    "    weights='imagenet',\n",
    "    input_shape= input_shape,\n",
    "    classifier_activation='softmax'\n",
    ")\n",
    "\n",
    "# Freeze the base_model\n",
    "base_model.trainable = False"
   ]
  },
  {
   "cell_type": "markdown",
   "id": "a1ac6b31",
   "metadata": {},
   "source": [
    "### Tvorba modelu"
   ]
  },
  {
   "cell_type": "code",
   "execution_count": 10,
   "id": "6d155afa",
   "metadata": {},
   "outputs": [],
   "source": [
    "def cnn_model():\n",
    "    model = tf.keras.Sequential()\n",
    "    \n",
    "    #model.add(data_augmentation)\n",
    "    \n",
    "    #Pretrained base\n",
    "    model.add(base_model)\n",
    "    \n",
    "    model.add(tf.keras.layers.Flatten())\n",
    "\n",
    "    #Head\n",
    "    model.add(tf.keras.layers.Dense(64,\n",
    "                                    activation='relu'))\n",
    "    model.add(tf.keras.layers.Dense(16,\n",
    "                                    activation='relu'))    \n",
    "    model.add(tf.keras.layers.Dense(6,\n",
    "                                    activation='softmax'))\n",
    "\n",
    "    return model"
   ]
  },
  {
   "cell_type": "code",
   "execution_count": 11,
   "id": "b9ed5b84",
   "metadata": {},
   "outputs": [],
   "source": [
    "model1 =  cnn_model()"
   ]
  },
  {
   "cell_type": "markdown",
   "id": "8f05618a",
   "metadata": {},
   "source": [
    "### Konfigurace modelu pro trénování"
   ]
  },
  {
   "cell_type": "markdown",
   "id": "151a1b0c",
   "metadata": {},
   "source": [
    "+ Adam optimization is a stochastic gradient descent method that is based on adaptive estimation of first-order and second-order moments.\n",
    "\n",
    "    + https://www.tensorflow.org/api_docs/python/tf/keras/optimizers"
   ]
  },
  {
   "cell_type": "code",
   "execution_count": 12,
   "id": "399a35ae",
   "metadata": {
    "scrolled": false
   },
   "outputs": [],
   "source": [
    "optimizer =tf.keras.optimizers.Adam(learning_rate=1e-4)"
   ]
  },
  {
   "cell_type": "code",
   "execution_count": 13,
   "id": "07e0fd62",
   "metadata": {},
   "outputs": [],
   "source": [
    "model1.compile(\n",
    "    optimizer = optimizer,\n",
    "    loss = 'categorical_crossentropy',\n",
    "    metrics=['accuracy'],\n",
    ")"
   ]
  },
  {
   "cell_type": "markdown",
   "id": "cbb83a0a",
   "metadata": {},
   "source": [
    "### Early stopping"
   ]
  },
  {
   "cell_type": "code",
   "execution_count": 18,
   "id": "b7f4741d",
   "metadata": {},
   "outputs": [],
   "source": [
    "early_stopping = callbacks.EarlyStopping(\n",
    "    monitor='val_loss',\n",
    "    min_delta=0.001,\n",
    "    patience=50,\n",
    "    verbose=1,\n",
    "    mode='min',\n",
    "    baseline=None,\n",
    "    restore_best_weights=True\n",
    ")"
   ]
  },
  {
   "cell_type": "markdown",
   "id": "9ec731e1",
   "metadata": {},
   "source": [
    "## Trénování modelu"
   ]
  },
  {
   "cell_type": "code",
   "execution_count": 19,
   "id": "7bfc031a",
   "metadata": {
    "scrolled": true
   },
   "outputs": [
    {
     "name": "stdout",
     "output_type": "stream",
     "text": [
      "Epoch 1/600\n",
      "8/8 [==============================] - 25s 2s/step - loss: 1.1380 - accuracy: 0.7563 - val_loss: 0.9753 - val_accuracy: 0.7660\n",
      "Epoch 2/600\n",
      "8/8 [==============================] - 4s 468ms/step - loss: 0.9818 - accuracy: 0.7563 - val_loss: 0.9165 - val_accuracy: 0.7660\n",
      "Epoch 3/600\n",
      "8/8 [==============================] - 4s 469ms/step - loss: 0.9265 - accuracy: 0.7563 - val_loss: 0.9016 - val_accuracy: 0.7660\n",
      "Epoch 4/600\n",
      "8/8 [==============================] - 4s 470ms/step - loss: 0.9053 - accuracy: 0.7563 - val_loss: 0.8832 - val_accuracy: 0.7660\n",
      "Epoch 5/600\n",
      "8/8 [==============================] - 4s 471ms/step - loss: 0.8843 - accuracy: 0.7563 - val_loss: 0.8736 - val_accuracy: 0.7660\n",
      "Epoch 6/600\n",
      "8/8 [==============================] - 4s 472ms/step - loss: 0.8665 - accuracy: 0.7563 - val_loss: 0.8618 - val_accuracy: 0.7660\n",
      "Epoch 7/600\n",
      "8/8 [==============================] - 4s 473ms/step - loss: 0.8469 - accuracy: 0.7563 - val_loss: 0.8542 - val_accuracy: 0.7660\n",
      "Epoch 8/600\n",
      "8/8 [==============================] - 4s 472ms/step - loss: 0.8284 - accuracy: 0.7563 - val_loss: 0.8447 - val_accuracy: 0.7660\n",
      "Epoch 9/600\n",
      "8/8 [==============================] - 4s 473ms/step - loss: 0.8118 - accuracy: 0.7563 - val_loss: 0.8358 - val_accuracy: 0.7660\n",
      "Epoch 10/600\n",
      "8/8 [==============================] - 4s 475ms/step - loss: 0.7951 - accuracy: 0.7605 - val_loss: 0.8285 - val_accuracy: 0.7660\n",
      "Epoch 11/600\n",
      "8/8 [==============================] - 4s 477ms/step - loss: 0.7808 - accuracy: 0.7605 - val_loss: 0.8202 - val_accuracy: 0.7660\n",
      "Epoch 12/600\n",
      "8/8 [==============================] - 4s 476ms/step - loss: 0.7646 - accuracy: 0.7605 - val_loss: 0.8107 - val_accuracy: 0.7730\n",
      "Epoch 13/600\n",
      "8/8 [==============================] - 4s 477ms/step - loss: 0.7514 - accuracy: 0.7605 - val_loss: 0.7987 - val_accuracy: 0.7730\n",
      "Epoch 14/600\n",
      "8/8 [==============================] - 4s 478ms/step - loss: 0.7318 - accuracy: 0.7605 - val_loss: 0.7895 - val_accuracy: 0.7730\n",
      "Epoch 15/600\n",
      "8/8 [==============================] - 4s 475ms/step - loss: 0.7176 - accuracy: 0.7647 - val_loss: 0.7847 - val_accuracy: 0.7730\n",
      "Epoch 16/600\n",
      "8/8 [==============================] - 4s 475ms/step - loss: 0.7066 - accuracy: 0.7647 - val_loss: 0.7755 - val_accuracy: 0.7730\n",
      "Epoch 17/600\n",
      "8/8 [==============================] - 4s 478ms/step - loss: 0.6956 - accuracy: 0.7689 - val_loss: 0.7691 - val_accuracy: 0.7730\n",
      "Epoch 18/600\n",
      "8/8 [==============================] - 4s 476ms/step - loss: 0.6797 - accuracy: 0.7647 - val_loss: 0.7609 - val_accuracy: 0.7730\n",
      "Epoch 19/600\n",
      "8/8 [==============================] - 4s 479ms/step - loss: 0.6728 - accuracy: 0.7689 - val_loss: 0.7562 - val_accuracy: 0.7730\n",
      "Epoch 20/600\n",
      "8/8 [==============================] - 4s 480ms/step - loss: 0.6550 - accuracy: 0.7647 - val_loss: 0.7483 - val_accuracy: 0.7730\n",
      "Epoch 21/600\n",
      "8/8 [==============================] - 4s 478ms/step - loss: 0.6483 - accuracy: 0.7731 - val_loss: 0.7442 - val_accuracy: 0.7801\n",
      "Epoch 22/600\n",
      "8/8 [==============================] - 4s 478ms/step - loss: 0.6343 - accuracy: 0.7731 - val_loss: 0.7368 - val_accuracy: 0.7730\n",
      "Epoch 23/600\n",
      "8/8 [==============================] - 4s 480ms/step - loss: 0.6269 - accuracy: 0.7815 - val_loss: 0.7331 - val_accuracy: 0.7801\n",
      "Epoch 24/600\n",
      "8/8 [==============================] - 4s 478ms/step - loss: 0.6110 - accuracy: 0.7815 - val_loss: 0.7269 - val_accuracy: 0.7801\n",
      "Epoch 25/600\n",
      "8/8 [==============================] - 4s 479ms/step - loss: 0.6037 - accuracy: 0.7815 - val_loss: 0.7233 - val_accuracy: 0.7872\n",
      "Epoch 26/600\n",
      "8/8 [==============================] - 4s 504ms/step - loss: 0.5894 - accuracy: 0.7857 - val_loss: 0.7141 - val_accuracy: 0.7801\n",
      "Epoch 27/600\n",
      "8/8 [==============================] - 4s 534ms/step - loss: 0.5817 - accuracy: 0.7857 - val_loss: 0.7089 - val_accuracy: 0.7872\n",
      "Epoch 28/600\n",
      "8/8 [==============================] - 4s 534ms/step - loss: 0.5675 - accuracy: 0.7941 - val_loss: 0.7026 - val_accuracy: 0.7801\n",
      "Epoch 29/600\n",
      "8/8 [==============================] - 4s 534ms/step - loss: 0.5570 - accuracy: 0.7983 - val_loss: 0.6984 - val_accuracy: 0.7872\n",
      "Epoch 30/600\n",
      "8/8 [==============================] - 4s 533ms/step - loss: 0.5490 - accuracy: 0.7983 - val_loss: 0.6929 - val_accuracy: 0.7872\n",
      "Epoch 31/600\n",
      "8/8 [==============================] - 4s 534ms/step - loss: 0.5399 - accuracy: 0.7983 - val_loss: 0.6882 - val_accuracy: 0.7872\n",
      "Epoch 32/600\n",
      "8/8 [==============================] - 4s 534ms/step - loss: 0.5303 - accuracy: 0.7983 - val_loss: 0.6835 - val_accuracy: 0.7872\n",
      "Epoch 33/600\n",
      "8/8 [==============================] - 4s 533ms/step - loss: 0.5199 - accuracy: 0.8025 - val_loss: 0.6792 - val_accuracy: 0.7872\n",
      "Epoch 34/600\n",
      "8/8 [==============================] - 4s 534ms/step - loss: 0.5125 - accuracy: 0.8067 - val_loss: 0.6747 - val_accuracy: 0.7872\n",
      "Epoch 35/600\n",
      "8/8 [==============================] - 4s 533ms/step - loss: 0.5035 - accuracy: 0.8109 - val_loss: 0.6708 - val_accuracy: 0.7872\n",
      "Epoch 36/600\n",
      "8/8 [==============================] - 4s 534ms/step - loss: 0.4960 - accuracy: 0.8193 - val_loss: 0.6665 - val_accuracy: 0.7872\n",
      "Epoch 37/600\n",
      "8/8 [==============================] - 4s 532ms/step - loss: 0.4864 - accuracy: 0.8193 - val_loss: 0.6635 - val_accuracy: 0.7872\n",
      "Epoch 38/600\n",
      "8/8 [==============================] - 4s 533ms/step - loss: 0.4792 - accuracy: 0.8235 - val_loss: 0.6591 - val_accuracy: 0.7872\n",
      "Epoch 39/600\n",
      "8/8 [==============================] - 4s 531ms/step - loss: 0.4725 - accuracy: 0.8235 - val_loss: 0.6563 - val_accuracy: 0.7872\n",
      "Epoch 40/600\n",
      "8/8 [==============================] - 4s 533ms/step - loss: 0.4650 - accuracy: 0.8277 - val_loss: 0.6530 - val_accuracy: 0.7872\n",
      "Epoch 41/600\n",
      "8/8 [==============================] - 4s 534ms/step - loss: 0.4559 - accuracy: 0.8319 - val_loss: 0.6494 - val_accuracy: 0.7872\n",
      "Epoch 42/600\n",
      "8/8 [==============================] - 4s 534ms/step - loss: 0.4487 - accuracy: 0.8361 - val_loss: 0.6465 - val_accuracy: 0.7872\n",
      "Epoch 43/600\n",
      "8/8 [==============================] - 4s 534ms/step - loss: 0.4422 - accuracy: 0.8361 - val_loss: 0.6421 - val_accuracy: 0.7943\n",
      "Epoch 44/600\n",
      "8/8 [==============================] - 4s 532ms/step - loss: 0.4354 - accuracy: 0.8403 - val_loss: 0.6404 - val_accuracy: 0.8014\n",
      "Epoch 45/600\n",
      "8/8 [==============================] - 4s 533ms/step - loss: 0.4289 - accuracy: 0.8487 - val_loss: 0.6369 - val_accuracy: 0.8014\n",
      "Epoch 46/600\n",
      "8/8 [==============================] - 4s 534ms/step - loss: 0.4211 - accuracy: 0.8487 - val_loss: 0.6352 - val_accuracy: 0.8014\n",
      "Epoch 47/600\n",
      "8/8 [==============================] - 4s 534ms/step - loss: 0.4160 - accuracy: 0.8529 - val_loss: 0.6312 - val_accuracy: 0.8014\n",
      "Epoch 48/600\n",
      "8/8 [==============================] - 4s 534ms/step - loss: 0.4068 - accuracy: 0.8571 - val_loss: 0.6288 - val_accuracy: 0.8014\n",
      "Epoch 49/600\n",
      "8/8 [==============================] - 4s 534ms/step - loss: 0.4028 - accuracy: 0.8697 - val_loss: 0.6256 - val_accuracy: 0.8014\n",
      "Epoch 50/600\n",
      "8/8 [==============================] - 4s 534ms/step - loss: 0.3949 - accuracy: 0.8613 - val_loss: 0.6236 - val_accuracy: 0.8014\n",
      "Epoch 51/600\n",
      "8/8 [==============================] - 4s 535ms/step - loss: 0.3907 - accuracy: 0.8739 - val_loss: 0.6198 - val_accuracy: 0.8085\n",
      "Epoch 52/600\n",
      "8/8 [==============================] - 4s 527ms/step - loss: 0.3815 - accuracy: 0.8782 - val_loss: 0.6194 - val_accuracy: 0.8014\n",
      "Epoch 53/600\n",
      "8/8 [==============================] - 4s 534ms/step - loss: 0.3761 - accuracy: 0.8908 - val_loss: 0.6165 - val_accuracy: 0.8085\n",
      "Epoch 54/600\n",
      "8/8 [==============================] - 4s 534ms/step - loss: 0.3695 - accuracy: 0.8866 - val_loss: 0.6132 - val_accuracy: 0.8156\n",
      "Epoch 55/600\n",
      "8/8 [==============================] - 4s 534ms/step - loss: 0.3650 - accuracy: 0.8950 - val_loss: 0.6106 - val_accuracy: 0.8085\n",
      "Epoch 56/600\n",
      "8/8 [==============================] - 4s 535ms/step - loss: 0.3579 - accuracy: 0.8908 - val_loss: 0.6089 - val_accuracy: 0.8156\n",
      "Epoch 57/600\n",
      "8/8 [==============================] - 4s 534ms/step - loss: 0.3540 - accuracy: 0.8950 - val_loss: 0.6049 - val_accuracy: 0.8085\n",
      "Epoch 58/600\n",
      "8/8 [==============================] - 4s 528ms/step - loss: 0.3469 - accuracy: 0.9034 - val_loss: 0.6041 - val_accuracy: 0.8156\n"
     ]
    },
    {
     "name": "stdout",
     "output_type": "stream",
     "text": [
      "Epoch 59/600\n",
      "8/8 [==============================] - 4s 534ms/step - loss: 0.3419 - accuracy: 0.8992 - val_loss: 0.6020 - val_accuracy: 0.8085\n",
      "Epoch 60/600\n",
      "8/8 [==============================] - 4s 536ms/step - loss: 0.3343 - accuracy: 0.9076 - val_loss: 0.6005 - val_accuracy: 0.8085\n",
      "Epoch 61/600\n",
      "8/8 [==============================] - 4s 536ms/step - loss: 0.3299 - accuracy: 0.9076 - val_loss: 0.5981 - val_accuracy: 0.8156\n",
      "Epoch 62/600\n",
      "8/8 [==============================] - 4s 535ms/step - loss: 0.3245 - accuracy: 0.9076 - val_loss: 0.5952 - val_accuracy: 0.8156\n",
      "Epoch 63/600\n",
      "8/8 [==============================] - 4s 536ms/step - loss: 0.3195 - accuracy: 0.9076 - val_loss: 0.5926 - val_accuracy: 0.8227\n",
      "Epoch 64/600\n",
      "8/8 [==============================] - 4s 530ms/step - loss: 0.3150 - accuracy: 0.9076 - val_loss: 0.5919 - val_accuracy: 0.8156\n",
      "Epoch 65/600\n",
      "8/8 [==============================] - 4s 535ms/step - loss: 0.3087 - accuracy: 0.9118 - val_loss: 0.5912 - val_accuracy: 0.8156\n",
      "Epoch 66/600\n",
      "8/8 [==============================] - 4s 535ms/step - loss: 0.3039 - accuracy: 0.9160 - val_loss: 0.5857 - val_accuracy: 0.8227\n",
      "Epoch 67/600\n",
      "8/8 [==============================] - 4s 529ms/step - loss: 0.2988 - accuracy: 0.9160 - val_loss: 0.5850 - val_accuracy: 0.8227\n",
      "Epoch 68/600\n",
      "8/8 [==============================] - 4s 535ms/step - loss: 0.2940 - accuracy: 0.9160 - val_loss: 0.5832 - val_accuracy: 0.8227\n",
      "Epoch 69/600\n",
      "8/8 [==============================] - 4s 535ms/step - loss: 0.2883 - accuracy: 0.9160 - val_loss: 0.5818 - val_accuracy: 0.8227\n",
      "Epoch 70/600\n",
      "8/8 [==============================] - 4s 536ms/step - loss: 0.2836 - accuracy: 0.9202 - val_loss: 0.5804 - val_accuracy: 0.8227\n",
      "Epoch 71/600\n",
      "8/8 [==============================] - 4s 536ms/step - loss: 0.2787 - accuracy: 0.9202 - val_loss: 0.5760 - val_accuracy: 0.8227\n",
      "Epoch 72/600\n",
      "8/8 [==============================] - 4s 529ms/step - loss: 0.2751 - accuracy: 0.9202 - val_loss: 0.5779 - val_accuracy: 0.8156\n",
      "Epoch 73/600\n",
      "8/8 [==============================] - 4s 536ms/step - loss: 0.2693 - accuracy: 0.9244 - val_loss: 0.5745 - val_accuracy: 0.8227\n",
      "Epoch 74/600\n",
      "8/8 [==============================] - 4s 535ms/step - loss: 0.2662 - accuracy: 0.9244 - val_loss: 0.5695 - val_accuracy: 0.8227\n",
      "Epoch 75/600\n",
      "8/8 [==============================] - 4s 530ms/step - loss: 0.2604 - accuracy: 0.9244 - val_loss: 0.5714 - val_accuracy: 0.8227\n",
      "Epoch 76/600\n",
      "8/8 [==============================] - 4s 529ms/step - loss: 0.2556 - accuracy: 0.9328 - val_loss: 0.5687 - val_accuracy: 0.8227\n",
      "Epoch 77/600\n",
      "8/8 [==============================] - 4s 537ms/step - loss: 0.2523 - accuracy: 0.9286 - val_loss: 0.5646 - val_accuracy: 0.8227\n",
      "Epoch 78/600\n",
      "8/8 [==============================] - 4s 530ms/step - loss: 0.2472 - accuracy: 0.9328 - val_loss: 0.5636 - val_accuracy: 0.8227\n",
      "Epoch 79/600\n",
      "8/8 [==============================] - 4s 536ms/step - loss: 0.2431 - accuracy: 0.9328 - val_loss: 0.5630 - val_accuracy: 0.8227\n",
      "Epoch 80/600\n",
      "8/8 [==============================] - 4s 529ms/step - loss: 0.2377 - accuracy: 0.9370 - val_loss: 0.5631 - val_accuracy: 0.8227\n",
      "Epoch 81/600\n",
      "8/8 [==============================] - 4s 539ms/step - loss: 0.2343 - accuracy: 0.9412 - val_loss: 0.5603 - val_accuracy: 0.8227\n",
      "Epoch 82/600\n",
      "8/8 [==============================] - 4s 538ms/step - loss: 0.2297 - accuracy: 0.9412 - val_loss: 0.5557 - val_accuracy: 0.8227\n",
      "Epoch 83/600\n",
      "8/8 [==============================] - 4s 532ms/step - loss: 0.2273 - accuracy: 0.9412 - val_loss: 0.5570 - val_accuracy: 0.8227\n",
      "Epoch 84/600\n",
      "8/8 [==============================] - 4s 530ms/step - loss: 0.2212 - accuracy: 0.9412 - val_loss: 0.5549 - val_accuracy: 0.8227\n",
      "Epoch 85/600\n",
      "8/8 [==============================] - 4s 537ms/step - loss: 0.2189 - accuracy: 0.9412 - val_loss: 0.5523 - val_accuracy: 0.8227\n",
      "Epoch 86/600\n",
      "8/8 [==============================] - 4s 540ms/step - loss: 0.2143 - accuracy: 0.9412 - val_loss: 0.5508 - val_accuracy: 0.8227\n",
      "Epoch 87/600\n",
      "8/8 [==============================] - 4s 530ms/step - loss: 0.2110 - accuracy: 0.9538 - val_loss: 0.5516 - val_accuracy: 0.8227\n",
      "Epoch 88/600\n",
      "8/8 [==============================] - 4s 539ms/step - loss: 0.2066 - accuracy: 0.9538 - val_loss: 0.5471 - val_accuracy: 0.8227\n",
      "Epoch 89/600\n",
      "8/8 [==============================] - 4s 532ms/step - loss: 0.2039 - accuracy: 0.9538 - val_loss: 0.5468 - val_accuracy: 0.8227\n",
      "Epoch 90/600\n",
      "8/8 [==============================] - 4s 538ms/step - loss: 0.1989 - accuracy: 0.9580 - val_loss: 0.5452 - val_accuracy: 0.8227\n",
      "Epoch 91/600\n",
      "8/8 [==============================] - 4s 532ms/step - loss: 0.1960 - accuracy: 0.9622 - val_loss: 0.5464 - val_accuracy: 0.8227\n",
      "Epoch 92/600\n",
      "8/8 [==============================] - 4s 539ms/step - loss: 0.1921 - accuracy: 0.9622 - val_loss: 0.5437 - val_accuracy: 0.8227\n",
      "Epoch 93/600\n",
      "8/8 [==============================] - 4s 539ms/step - loss: 0.1900 - accuracy: 0.9622 - val_loss: 0.5417 - val_accuracy: 0.8227\n",
      "Epoch 94/600\n",
      "8/8 [==============================] - 4s 539ms/step - loss: 0.1858 - accuracy: 0.9580 - val_loss: 0.5390 - val_accuracy: 0.8227\n",
      "Epoch 95/600\n",
      "8/8 [==============================] - 4s 532ms/step - loss: 0.1839 - accuracy: 0.9664 - val_loss: 0.5415 - val_accuracy: 0.8298\n",
      "Epoch 96/600\n",
      "8/8 [==============================] - 4s 539ms/step - loss: 0.1790 - accuracy: 0.9622 - val_loss: 0.5360 - val_accuracy: 0.8227\n",
      "Epoch 97/600\n",
      "8/8 [==============================] - 4s 531ms/step - loss: 0.1774 - accuracy: 0.9664 - val_loss: 0.5376 - val_accuracy: 0.8298\n",
      "Epoch 98/600\n",
      "8/8 [==============================] - 4s 539ms/step - loss: 0.1727 - accuracy: 0.9622 - val_loss: 0.5345 - val_accuracy: 0.8227\n",
      "Epoch 99/600\n",
      "8/8 [==============================] - 4s 533ms/step - loss: 0.1703 - accuracy: 0.9664 - val_loss: 0.5350 - val_accuracy: 0.8369\n",
      "Epoch 100/600\n",
      "8/8 [==============================] - 4s 538ms/step - loss: 0.1639 - accuracy: 0.9622 - val_loss: 0.5288 - val_accuracy: 0.8369\n",
      "Epoch 101/600\n",
      "8/8 [==============================] - 4s 532ms/step - loss: 0.1601 - accuracy: 0.9664 - val_loss: 0.5281 - val_accuracy: 0.8369\n",
      "Epoch 102/600\n",
      "8/8 [==============================] - 4s 541ms/step - loss: 0.1569 - accuracy: 0.9706 - val_loss: 0.5253 - val_accuracy: 0.8369\n",
      "Epoch 103/600\n",
      "8/8 [==============================] - 4s 541ms/step - loss: 0.1539 - accuracy: 0.9706 - val_loss: 0.5228 - val_accuracy: 0.8369\n",
      "Epoch 104/600\n",
      "8/8 [==============================] - 4s 533ms/step - loss: 0.1506 - accuracy: 0.9706 - val_loss: 0.5232 - val_accuracy: 0.8369\n",
      "Epoch 105/600\n",
      "8/8 [==============================] - 4s 532ms/step - loss: 0.1478 - accuracy: 0.9748 - val_loss: 0.5237 - val_accuracy: 0.8369\n",
      "Epoch 106/600\n",
      "8/8 [==============================] - 4s 540ms/step - loss: 0.1450 - accuracy: 0.9748 - val_loss: 0.5201 - val_accuracy: 0.8440\n",
      "Epoch 107/600\n",
      "8/8 [==============================] - 4s 532ms/step - loss: 0.1429 - accuracy: 0.9748 - val_loss: 0.5220 - val_accuracy: 0.8440\n",
      "Epoch 108/600\n",
      "8/8 [==============================] - 4s 539ms/step - loss: 0.1397 - accuracy: 0.9748 - val_loss: 0.5182 - val_accuracy: 0.8582\n",
      "Epoch 109/600\n",
      "8/8 [==============================] - 4s 532ms/step - loss: 0.1378 - accuracy: 0.9790 - val_loss: 0.5175 - val_accuracy: 0.8511\n",
      "Epoch 110/600\n",
      "8/8 [==============================] - 4s 532ms/step - loss: 0.1350 - accuracy: 0.9832 - val_loss: 0.5199 - val_accuracy: 0.8511\n",
      "Epoch 111/600\n",
      "8/8 [==============================] - 4s 532ms/step - loss: 0.1325 - accuracy: 0.9832 - val_loss: 0.5178 - val_accuracy: 0.8511\n",
      "Epoch 112/600\n",
      "8/8 [==============================] - 4s 539ms/step - loss: 0.1307 - accuracy: 0.9790 - val_loss: 0.5155 - val_accuracy: 0.8582\n",
      "Epoch 113/600\n",
      "8/8 [==============================] - 4s 540ms/step - loss: 0.1284 - accuracy: 0.9832 - val_loss: 0.5138 - val_accuracy: 0.8582\n",
      "Epoch 114/600\n",
      "8/8 [==============================] - 4s 534ms/step - loss: 0.1264 - accuracy: 0.9832 - val_loss: 0.5194 - val_accuracy: 0.8511\n",
      "Epoch 115/600\n",
      "8/8 [==============================] - 4s 533ms/step - loss: 0.1234 - accuracy: 0.9832 - val_loss: 0.5128 - val_accuracy: 0.8582\n",
      "Epoch 116/600\n",
      "8/8 [==============================] - 4s 532ms/step - loss: 0.1225 - accuracy: 0.9832 - val_loss: 0.5155 - val_accuracy: 0.8511\n",
      "Epoch 117/600\n",
      "8/8 [==============================] - 4s 533ms/step - loss: 0.1195 - accuracy: 0.9832 - val_loss: 0.5134 - val_accuracy: 0.8582\n",
      "Epoch 118/600\n",
      "8/8 [==============================] - 4s 533ms/step - loss: 0.1180 - accuracy: 0.9832 - val_loss: 0.5146 - val_accuracy: 0.8511\n",
      "Epoch 119/600\n",
      "8/8 [==============================] - 4s 540ms/step - loss: 0.1156 - accuracy: 0.9832 - val_loss: 0.5111 - val_accuracy: 0.8582\n",
      "Epoch 120/600\n",
      "8/8 [==============================] - 4s 533ms/step - loss: 0.1141 - accuracy: 0.9832 - val_loss: 0.5140 - val_accuracy: 0.8511\n",
      "Epoch 121/600\n",
      "8/8 [==============================] - 4s 540ms/step - loss: 0.1118 - accuracy: 0.9874 - val_loss: 0.5099 - val_accuracy: 0.8582\n",
      "Epoch 122/600\n",
      "8/8 [==============================] - 4s 533ms/step - loss: 0.1105 - accuracy: 0.9916 - val_loss: 0.5147 - val_accuracy: 0.8511\n",
      "Epoch 123/600\n",
      "8/8 [==============================] - 4s 535ms/step - loss: 0.1082 - accuracy: 0.9916 - val_loss: 0.5106 - val_accuracy: 0.8582\n",
      "Epoch 124/600\n",
      "8/8 [==============================] - 4s 533ms/step - loss: 0.1069 - accuracy: 0.9916 - val_loss: 0.5122 - val_accuracy: 0.8652\n",
      "Epoch 125/600\n",
      "8/8 [==============================] - 4s 532ms/step - loss: 0.1048 - accuracy: 0.9916 - val_loss: 0.5096 - val_accuracy: 0.8582\n",
      "Epoch 126/600\n",
      "8/8 [==============================] - 4s 534ms/step - loss: 0.1034 - accuracy: 0.9916 - val_loss: 0.5129 - val_accuracy: 0.8511\n",
      "Epoch 127/600\n",
      "8/8 [==============================] - 4s 532ms/step - loss: 0.1014 - accuracy: 0.9916 - val_loss: 0.5097 - val_accuracy: 0.8652\n",
      "Epoch 128/600\n",
      "8/8 [==============================] - 4s 533ms/step - loss: 0.1003 - accuracy: 0.9916 - val_loss: 0.5109 - val_accuracy: 0.8582\n",
      "Epoch 129/600\n",
      "8/8 [==============================] - 4s 534ms/step - loss: 0.0982 - accuracy: 0.9916 - val_loss: 0.5100 - val_accuracy: 0.8652\n",
      "Epoch 130/600\n",
      "8/8 [==============================] - 4s 533ms/step - loss: 0.0972 - accuracy: 0.9916 - val_loss: 0.5116 - val_accuracy: 0.8582\n",
      "Epoch 131/600\n",
      "8/8 [==============================] - 4s 533ms/step - loss: 0.0952 - accuracy: 0.9916 - val_loss: 0.5095 - val_accuracy: 0.8652\n",
      "Epoch 132/600\n",
      "8/8 [==============================] - 4s 533ms/step - loss: 0.0940 - accuracy: 0.9916 - val_loss: 0.5116 - val_accuracy: 0.8652\n",
      "Epoch 133/600\n",
      "8/8 [==============================] - 4s 533ms/step - loss: 0.0924 - accuracy: 0.9916 - val_loss: 0.5097 - val_accuracy: 0.8652\n",
      "Epoch 134/600\n",
      "8/8 [==============================] - 4s 533ms/step - loss: 0.0911 - accuracy: 0.9916 - val_loss: 0.5097 - val_accuracy: 0.8652\n",
      "Epoch 135/600\n",
      "8/8 [==============================] - 4s 535ms/step - loss: 0.0897 - accuracy: 0.9916 - val_loss: 0.5121 - val_accuracy: 0.8652\n",
      "Epoch 136/600\n",
      "8/8 [==============================] - 4s 542ms/step - loss: 0.0882 - accuracy: 0.9916 - val_loss: 0.5062 - val_accuracy: 0.8652\n",
      "Epoch 137/600\n",
      "8/8 [==============================] - 4s 534ms/step - loss: 0.0871 - accuracy: 1.0000 - val_loss: 0.5125 - val_accuracy: 0.8652\n",
      "Epoch 138/600\n",
      "8/8 [==============================] - 4s 533ms/step - loss: 0.0856 - accuracy: 0.9958 - val_loss: 0.5102 - val_accuracy: 0.8652\n",
      "Epoch 139/600\n",
      "8/8 [==============================] - 4s 533ms/step - loss: 0.0843 - accuracy: 1.0000 - val_loss: 0.5073 - val_accuracy: 0.8652\n",
      "Epoch 140/600\n",
      "8/8 [==============================] - 4s 534ms/step - loss: 0.0833 - accuracy: 1.0000 - val_loss: 0.5117 - val_accuracy: 0.8652\n",
      "Epoch 141/600\n",
      "8/8 [==============================] - 4s 533ms/step - loss: 0.0817 - accuracy: 1.0000 - val_loss: 0.5092 - val_accuracy: 0.8652\n",
      "Epoch 142/600\n",
      "8/8 [==============================] - 4s 534ms/step - loss: 0.0809 - accuracy: 1.0000 - val_loss: 0.5096 - val_accuracy: 0.8652\n",
      "Epoch 143/600\n",
      "8/8 [==============================] - 4s 533ms/step - loss: 0.0796 - accuracy: 1.0000 - val_loss: 0.5078 - val_accuracy: 0.8652\n",
      "Epoch 144/600\n",
      "8/8 [==============================] - 4s 534ms/step - loss: 0.0784 - accuracy: 1.0000 - val_loss: 0.5124 - val_accuracy: 0.8652\n",
      "Epoch 145/600\n",
      "8/8 [==============================] - 4s 534ms/step - loss: 0.0773 - accuracy: 1.0000 - val_loss: 0.5083 - val_accuracy: 0.8652\n",
      "Epoch 146/600\n",
      "8/8 [==============================] - 4s 534ms/step - loss: 0.0762 - accuracy: 1.0000 - val_loss: 0.5115 - val_accuracy: 0.8652\n",
      "Epoch 147/600\n",
      "8/8 [==============================] - 4s 533ms/step - loss: 0.0751 - accuracy: 1.0000 - val_loss: 0.5084 - val_accuracy: 0.8652\n",
      "Epoch 148/600\n",
      "8/8 [==============================] - 4s 533ms/step - loss: 0.0740 - accuracy: 1.0000 - val_loss: 0.5125 - val_accuracy: 0.8652\n",
      "Epoch 149/600\n",
      "8/8 [==============================] - 4s 532ms/step - loss: 0.0729 - accuracy: 1.0000 - val_loss: 0.5095 - val_accuracy: 0.8652\n",
      "Epoch 150/600\n",
      "8/8 [==============================] - 4s 533ms/step - loss: 0.0719 - accuracy: 1.0000 - val_loss: 0.5113 - val_accuracy: 0.8652\n",
      "Epoch 151/600\n",
      "8/8 [==============================] - 4s 533ms/step - loss: 0.0709 - accuracy: 1.0000 - val_loss: 0.5086 - val_accuracy: 0.8652\n",
      "Epoch 152/600\n",
      "8/8 [==============================] - 4s 533ms/step - loss: 0.0699 - accuracy: 1.0000 - val_loss: 0.5138 - val_accuracy: 0.8652\n",
      "Epoch 153/600\n",
      "8/8 [==============================] - 4s 534ms/step - loss: 0.0689 - accuracy: 1.0000 - val_loss: 0.5094 - val_accuracy: 0.8652\n",
      "Epoch 154/600\n",
      "8/8 [==============================] - 4s 534ms/step - loss: 0.0680 - accuracy: 1.0000 - val_loss: 0.5118 - val_accuracy: 0.8652\n",
      "Epoch 155/600\n",
      "8/8 [==============================] - 4s 534ms/step - loss: 0.0670 - accuracy: 1.0000 - val_loss: 0.5104 - val_accuracy: 0.8652\n",
      "Epoch 156/600\n",
      "8/8 [==============================] - 4s 533ms/step - loss: 0.0661 - accuracy: 1.0000 - val_loss: 0.5130 - val_accuracy: 0.8652\n",
      "Epoch 157/600\n",
      "8/8 [==============================] - 4s 533ms/step - loss: 0.0651 - accuracy: 1.0000 - val_loss: 0.5088 - val_accuracy: 0.8652\n",
      "Epoch 158/600\n",
      "8/8 [==============================] - 4s 534ms/step - loss: 0.0643 - accuracy: 1.0000 - val_loss: 0.5149 - val_accuracy: 0.8652\n",
      "Epoch 159/600\n",
      "8/8 [==============================] - 4s 534ms/step - loss: 0.0633 - accuracy: 1.0000 - val_loss: 0.5098 - val_accuracy: 0.8652\n",
      "Epoch 160/600\n",
      "8/8 [==============================] - 4s 534ms/step - loss: 0.0626 - accuracy: 1.0000 - val_loss: 0.5132 - val_accuracy: 0.8652\n",
      "Epoch 161/600\n",
      "8/8 [==============================] - 4s 533ms/step - loss: 0.0617 - accuracy: 1.0000 - val_loss: 0.5105 - val_accuracy: 0.8652\n",
      "Epoch 162/600\n",
      "8/8 [==============================] - 4s 532ms/step - loss: 0.0608 - accuracy: 1.0000 - val_loss: 0.5146 - val_accuracy: 0.8652\n",
      "Epoch 163/600\n",
      "8/8 [==============================] - 4s 534ms/step - loss: 0.0600 - accuracy: 1.0000 - val_loss: 0.5110 - val_accuracy: 0.8652\n",
      "Epoch 164/600\n",
      "8/8 [==============================] - 4s 533ms/step - loss: 0.0593 - accuracy: 1.0000 - val_loss: 0.5140 - val_accuracy: 0.8652\n",
      "Epoch 165/600\n",
      "8/8 [==============================] - 4s 532ms/step - loss: 0.0584 - accuracy: 1.0000 - val_loss: 0.5107 - val_accuracy: 0.8652\n",
      "Epoch 166/600\n",
      "8/8 [==============================] - 4s 532ms/step - loss: 0.0577 - accuracy: 1.0000 - val_loss: 0.5165 - val_accuracy: 0.8652\n",
      "Epoch 167/600\n",
      "8/8 [==============================] - 4s 533ms/step - loss: 0.0569 - accuracy: 1.0000 - val_loss: 0.5109 - val_accuracy: 0.8652\n",
      "Epoch 168/600\n",
      "8/8 [==============================] - 4s 532ms/step - loss: 0.0562 - accuracy: 1.0000 - val_loss: 0.5151 - val_accuracy: 0.8652\n",
      "Epoch 169/600\n",
      "8/8 [==============================] - 4s 533ms/step - loss: 0.0554 - accuracy: 1.0000 - val_loss: 0.5127 - val_accuracy: 0.8652\n",
      "Epoch 170/600\n",
      "8/8 [==============================] - 4s 533ms/step - loss: 0.0547 - accuracy: 1.0000 - val_loss: 0.5152 - val_accuracy: 0.8652\n",
      "Epoch 171/600\n",
      "8/8 [==============================] - 4s 533ms/step - loss: 0.0539 - accuracy: 1.0000 - val_loss: 0.5123 - val_accuracy: 0.8652\n",
      "Epoch 172/600\n",
      "8/8 [==============================] - 4s 533ms/step - loss: 0.0534 - accuracy: 1.0000 - val_loss: 0.5165 - val_accuracy: 0.8652\n",
      "Epoch 173/600\n"
     ]
    },
    {
     "name": "stdout",
     "output_type": "stream",
     "text": [
      "8/8 [==============================] - 4s 533ms/step - loss: 0.0525 - accuracy: 1.0000 - val_loss: 0.5134 - val_accuracy: 0.8652\n",
      "Epoch 174/600\n",
      "8/8 [==============================] - 4s 534ms/step - loss: 0.0520 - accuracy: 1.0000 - val_loss: 0.5152 - val_accuracy: 0.8652\n",
      "Epoch 175/600\n",
      "8/8 [==============================] - 4s 535ms/step - loss: 0.0512 - accuracy: 1.0000 - val_loss: 0.5146 - val_accuracy: 0.8652\n",
      "Epoch 176/600\n",
      "8/8 [==============================] - 4s 534ms/step - loss: 0.0506 - accuracy: 1.0000 - val_loss: 0.5170 - val_accuracy: 0.8652\n",
      "Epoch 177/600\n",
      "8/8 [==============================] - 4s 533ms/step - loss: 0.0499 - accuracy: 1.0000 - val_loss: 0.5145 - val_accuracy: 0.8652\n",
      "Epoch 178/600\n",
      "8/8 [==============================] - 4s 533ms/step - loss: 0.0494 - accuracy: 1.0000 - val_loss: 0.5171 - val_accuracy: 0.8652\n",
      "Epoch 179/600\n",
      "8/8 [==============================] - 4s 532ms/step - loss: 0.0487 - accuracy: 1.0000 - val_loss: 0.5148 - val_accuracy: 0.8652\n",
      "Epoch 180/600\n",
      "8/8 [==============================] - 4s 534ms/step - loss: 0.0481 - accuracy: 1.0000 - val_loss: 0.5178 - val_accuracy: 0.8652\n",
      "Epoch 181/600\n",
      "8/8 [==============================] - 4s 534ms/step - loss: 0.0475 - accuracy: 1.0000 - val_loss: 0.5160 - val_accuracy: 0.8652\n",
      "Epoch 182/600\n",
      "8/8 [==============================] - 4s 534ms/step - loss: 0.0469 - accuracy: 1.0000 - val_loss: 0.5176 - val_accuracy: 0.8652\n",
      "Epoch 183/600\n",
      "8/8 [==============================] - 4s 534ms/step - loss: 0.0463 - accuracy: 1.0000 - val_loss: 0.5164 - val_accuracy: 0.8652\n",
      "Epoch 184/600\n",
      "8/8 [==============================] - 4s 533ms/step - loss: 0.0457 - accuracy: 1.0000 - val_loss: 0.5180 - val_accuracy: 0.8652\n",
      "Epoch 185/600\n",
      "8/8 [==============================] - 4s 534ms/step - loss: 0.0452 - accuracy: 1.0000 - val_loss: 0.5191 - val_accuracy: 0.8652\n",
      "Epoch 186/600\n",
      "8/8 [==============================] - ETA: 0s - loss: 0.0447 - accuracy: 1.0000Restoring model weights from the end of the best epoch: 136.\n",
      "8/8 [==============================] - 4s 538ms/step - loss: 0.0447 - accuracy: 1.0000 - val_loss: 0.5166 - val_accuracy: 0.8652\n",
      "Epoch 00186: early stopping\n"
     ]
    }
   ],
   "source": [
    "history = model1.fit(\n",
    "    train_ds,\n",
    "    validation_data = valid_ds,\n",
    "    epochs=1000,\n",
    "    verbose = 1,\n",
    "    callbacks=early_stopping\n",
    "    )"
   ]
  },
  {
   "cell_type": "code",
   "execution_count": 14,
   "id": "26894ba8",
   "metadata": {},
   "outputs": [
    {
     "name": "stdout",
     "output_type": "stream",
     "text": [
      "Model: \"vgg19\"\n",
      "_________________________________________________________________\n",
      " Layer (type)                Output Shape              Param #   \n",
      "=================================================================\n",
      " input_1 (InputLayer)        [(None, 224, 224, 3)]     0         \n",
      "                                                                 \n",
      " block1_conv1 (Conv2D)       (None, 224, 224, 64)      1792      \n",
      "                                                                 \n",
      " block1_conv2 (Conv2D)       (None, 224, 224, 64)      36928     \n",
      "                                                                 \n",
      " block1_pool (MaxPooling2D)  (None, 112, 112, 64)      0         \n",
      "                                                                 \n",
      " block2_conv1 (Conv2D)       (None, 112, 112, 128)     73856     \n",
      "                                                                 \n",
      " block2_conv2 (Conv2D)       (None, 112, 112, 128)     147584    \n",
      "                                                                 \n",
      " block2_pool (MaxPooling2D)  (None, 56, 56, 128)       0         \n",
      "                                                                 \n",
      " block3_conv1 (Conv2D)       (None, 56, 56, 256)       295168    \n",
      "                                                                 \n",
      " block3_conv2 (Conv2D)       (None, 56, 56, 256)       590080    \n",
      "                                                                 \n",
      " block3_conv3 (Conv2D)       (None, 56, 56, 256)       590080    \n",
      "                                                                 \n",
      " block3_conv4 (Conv2D)       (None, 56, 56, 256)       590080    \n",
      "                                                                 \n",
      " block3_pool (MaxPooling2D)  (None, 28, 28, 256)       0         \n",
      "                                                                 \n",
      " block4_conv1 (Conv2D)       (None, 28, 28, 512)       1180160   \n",
      "                                                                 \n",
      " block4_conv2 (Conv2D)       (None, 28, 28, 512)       2359808   \n",
      "                                                                 \n",
      " block4_conv3 (Conv2D)       (None, 28, 28, 512)       2359808   \n",
      "                                                                 \n",
      " block4_conv4 (Conv2D)       (None, 28, 28, 512)       2359808   \n",
      "                                                                 \n",
      " block4_pool (MaxPooling2D)  (None, 14, 14, 512)       0         \n",
      "                                                                 \n",
      " block5_conv1 (Conv2D)       (None, 14, 14, 512)       2359808   \n",
      "                                                                 \n",
      " block5_conv2 (Conv2D)       (None, 14, 14, 512)       2359808   \n",
      "                                                                 \n",
      " block5_conv3 (Conv2D)       (None, 14, 14, 512)       2359808   \n",
      "                                                                 \n",
      " block5_conv4 (Conv2D)       (None, 14, 14, 512)       2359808   \n",
      "                                                                 \n",
      " block5_pool (MaxPooling2D)  (None, 7, 7, 512)         0         \n",
      "                                                                 \n",
      "=================================================================\n",
      "Total params: 20,024,384\n",
      "Trainable params: 0\n",
      "Non-trainable params: 20,024,384\n",
      "_________________________________________________________________\n"
     ]
    }
   ],
   "source": [
    "base_model.summary()"
   ]
  },
  {
   "cell_type": "code",
   "execution_count": 15,
   "id": "51ccb4bf",
   "metadata": {},
   "outputs": [
    {
     "ename": "ValueError",
     "evalue": "This model has not yet been built. Build the model first by calling `build()` or by calling the model on a batch of data.",
     "output_type": "error",
     "traceback": [
      "\u001b[1;31m---------------------------------------------------------------------------\u001b[0m",
      "\u001b[1;31mValueError\u001b[0m                                Traceback (most recent call last)",
      "\u001b[1;32m~\\AppData\\Local\\Temp/ipykernel_5280/1587863535.py\u001b[0m in \u001b[0;36m<module>\u001b[1;34m\u001b[0m\n\u001b[1;32m----> 1\u001b[1;33m \u001b[0mdata_augmentation\u001b[0m\u001b[1;33m.\u001b[0m\u001b[0msummary\u001b[0m\u001b[1;33m(\u001b[0m\u001b[1;33m)\u001b[0m\u001b[1;33m\u001b[0m\u001b[1;33m\u001b[0m\u001b[0m\n\u001b[0m",
      "\u001b[1;32m~\\miniconda3\\envs\\spyder-env\\lib\\site-packages\\keras\\engine\\training.py\u001b[0m in \u001b[0;36msummary\u001b[1;34m(self, line_length, positions, print_fn, expand_nested)\u001b[0m\n\u001b[0;32m   2577\u001b[0m     \"\"\"\n\u001b[0;32m   2578\u001b[0m     \u001b[1;32mif\u001b[0m \u001b[1;32mnot\u001b[0m \u001b[0mself\u001b[0m\u001b[1;33m.\u001b[0m\u001b[0mbuilt\u001b[0m\u001b[1;33m:\u001b[0m\u001b[1;33m\u001b[0m\u001b[1;33m\u001b[0m\u001b[0m\n\u001b[1;32m-> 2579\u001b[1;33m       raise ValueError(\n\u001b[0m\u001b[0;32m   2580\u001b[0m           \u001b[1;34m'This model has not yet been built. '\u001b[0m\u001b[1;33m\u001b[0m\u001b[1;33m\u001b[0m\u001b[0m\n\u001b[0;32m   2581\u001b[0m           \u001b[1;34m'Build the model first by calling `build()` or by calling '\u001b[0m\u001b[1;33m\u001b[0m\u001b[1;33m\u001b[0m\u001b[0m\n",
      "\u001b[1;31mValueError\u001b[0m: This model has not yet been built. Build the model first by calling `build()` or by calling the model on a batch of data."
     ]
    }
   ],
   "source": [
    "data_augmentation.summary()"
   ]
  },
  {
   "cell_type": "code",
   "execution_count": 16,
   "id": "4987b62b",
   "metadata": {
    "scrolled": true
   },
   "outputs": [
    {
     "name": "stdout",
     "output_type": "stream",
     "text": [
      "Model: \"sequential_1\"\n",
      "_________________________________________________________________\n",
      " Layer (type)                Output Shape              Param #   \n",
      "=================================================================\n",
      " vgg19 (Functional)          (None, 7, 7, 512)         20024384  \n",
      "                                                                 \n",
      " flatten (Flatten)           (None, 25088)             0         \n",
      "                                                                 \n",
      " dense (Dense)               (None, 64)                1605696   \n",
      "                                                                 \n",
      " dense_1 (Dense)             (None, 16)                1040      \n",
      "                                                                 \n",
      " dense_2 (Dense)             (None, 6)                 102       \n",
      "                                                                 \n",
      "=================================================================\n",
      "Total params: 21,631,222\n",
      "Trainable params: 1,606,838\n",
      "Non-trainable params: 20,024,384\n",
      "_________________________________________________________________\n"
     ]
    }
   ],
   "source": [
    "model1.summary()"
   ]
  },
  {
   "cell_type": "markdown",
   "id": "57486b5a",
   "metadata": {},
   "source": [
    "## Vlastnosti modelu"
   ]
  },
  {
   "cell_type": "markdown",
   "id": "b25d33b1",
   "metadata": {},
   "source": [
    "### Uložení modelu"
   ]
  },
  {
   "cell_type": "code",
   "execution_count": null,
   "id": "bcf7e0b2",
   "metadata": {
    "scrolled": true
   },
   "outputs": [],
   "source": [
    "model_to_save = r\"C:\\Users\\HP\\Documents\\GIT\\models\\pretrained_base+NN(same_orientation#83,2%)\"\n",
    "model1.save(filepath=model_to_save , save_format='tf')"
   ]
  },
  {
   "cell_type": "markdown",
   "id": "c0cd48e8",
   "metadata": {},
   "source": [
    "###  Načtení modelu"
   ]
  },
  {
   "cell_type": "markdown",
   "id": "7c4a9bd0",
   "metadata": {},
   "source": [
    "## Vizualizace přesnosti a ztráty naučeného modelu"
   ]
  },
  {
   "cell_type": "code",
   "execution_count": null,
   "id": "8ecd8a4c",
   "metadata": {},
   "outputs": [],
   "source": [
    "model_name = r\"C:\\Users\\HP\\Documents\\GIT\\models\\\\\"\n",
    "\n",
    "load_model = tf.keras.models.load_model(model_name)"
   ]
  },
  {
   "cell_type": "code",
   "execution_count": 20,
   "id": "485b359a",
   "metadata": {},
   "outputs": [
    {
     "name": "stdout",
     "output_type": "stream",
     "text": [
      "dict_keys(['loss', 'accuracy', 'val_loss', 'val_accuracy'])\n"
     ]
    }
   ],
   "source": [
    "print(history.history.keys())"
   ]
  },
  {
   "cell_type": "code",
   "execution_count": 21,
   "id": "8d97b3da",
   "metadata": {},
   "outputs": [],
   "source": [
    "def plot_accuracy_loss(history):\n",
    "\n",
    "    fig = plt.figure(figsize=(16,10))\n",
    "    plt.rcParams['font.size'] = '16'\n",
    "    for label in (ax.get_xticklabels() + ax.get_yticklabels()):\n",
    "        label.set_fontsize(16)\n",
    "\n",
    "    # Plot accuracy\n",
    "    plt.subplot(221)\n",
    "    plt.plot(history.history['accuracy'],'b-', label = \"Na trénovacích datech\")\n",
    "    plt.plot(history.history['val_accuracy'], 'r-', label = \"Na validačních datech\")\n",
    "    plt.ylabel(\"Správnost\",fontsize=18)\n",
    "    plt.xlabel(\"Iterace\",fontsize=18)\n",
    "    plt.legend(fontsize=16)\n",
    "\n",
    "    # Plot loss function\n",
    "    plt.subplot(222)\n",
    "    plt.plot(history.history['loss'],'b-', label = \"Na trénovacích datech\")\n",
    "    plt.plot(history.history['val_loss'], 'r-', label = \"Na validačních datech\")\n",
    "    plt.ylabel(\"Ztráta\",fontsize=18)\n",
    "    plt.xlabel(\"Iterace\",fontsize=18)\n",
    "\n",
    "    plt.legend(fontsize=16)\n",
    "    plt.show()\n",
    "    \n",
    "history_frame = pd.DataFrame(history.history)"
   ]
  },
  {
   "cell_type": "code",
   "execution_count": 22,
   "id": "c16772db",
   "metadata": {
    "scrolled": false
   },
   "outputs": [
    {
     "name": "stdout",
     "output_type": "stream",
     "text": [
      "       loss  accuracy  val_loss  val_accuracy\n",
      "0  1.138045  0.756303  0.975323      0.765957\n",
      "1  0.981800  0.756303  0.916499      0.765957\n",
      "2  0.926520  0.756303  0.901632      0.765957\n",
      "3  0.905326  0.756303  0.883221      0.765957\n",
      "4  0.884260  0.756303  0.873552      0.765957\n"
     ]
    },
    {
     "data": {
      "image/png": "[encoded data removed]",
      "text/plain": [
       "<Figure size 1152x720 with 2 Axes>"
      ]
     },
     "metadata": {
      "needs_background": "light"
     },
     "output_type": "display_data"
    }
   ],
   "source": [
    "print(history_frame.head())\n",
    "plot_accuracy_loss(history)"
   ]
  },
  {
   "cell_type": "code",
   "execution_count": 23,
   "id": "fa4d11ed",
   "metadata": {},
   "outputs": [
    {
     "name": "stdout",
     "output_type": "stream",
     "text": [
      "4/4 [==============================] - 4s 1s/step - loss: 0.4468 - accuracy: 0.8614\n",
      "86.13861203193665%\n"
     ]
    }
   ],
   "source": [
    "test_loss, test_acc = model1.evaluate(test_ds)\n",
    "print(str(test_acc*100) + '%')"
   ]
  },
  {
   "cell_type": "markdown",
   "id": "375f445c",
   "metadata": {},
   "source": [
    "## Matice záměn (Confusion matrix)"
   ]
  },
  {
   "cell_type": "markdown",
   "id": "2537108f",
   "metadata": {},
   "source": [
    "+ https://stackoverflow.com/questions/64622210/how-to-plot-confusion-matrix-for-prefetched-dataset-in-tensorflow\n",
    "+ https://deeplizard.com/learn/video/km7pxKy4UHU"
   ]
  },
  {
   "cell_type": "code",
   "execution_count": 30,
   "id": "5a44d131",
   "metadata": {},
   "outputs": [
    {
     "data": {
      "image/png": "[encoded data removed]",
      "text/plain": [
       "<Figure size 432x288 with 2 Axes>"
      ]
     },
     "metadata": {
      "needs_background": "light"
     },
     "output_type": "display_data"
    }
   ],
   "source": [
    "# Predikované rozdělení obrázků do tříd\n",
    "image_predict = model1.predict(test_ds)\n",
    "#print(image_predict)\n",
    "image_predict = np.argmax(image_predict, axis=1)\n",
    "\n",
    "# Skutečné rozdělení obrázků\n",
    "image_true = tf.concat([y for x, y in test_ds], axis=0)\n",
    "image_true = np.argmax(image_true, axis=1)\n",
    "\n",
    "cm = confusion_matrix(y_true=image_true, y_pred=image_predict)\n",
    "\n",
    "\n",
    "def plot_confusion_matrix(cm, classes,cmap=plt.cm.Reds):\n",
    "    plt.imshow(cm, interpolation='nearest', cmap=cmap)\n",
    "    plt.colorbar()\n",
    "    tick_marks = np.arange(len(classes))\n",
    "    plt.xticks(tick_marks, classes, rotation=90,fontsize=12)\n",
    "    plt.yticks(tick_marks, classes,fontsize=12)\n",
    "\n",
    "    thresh = cm.max() / 2.\n",
    "    for i, j in itertools.product(range(cm.shape[0]), range(cm.shape[1])):\n",
    "        plt.text(j, i, cm[i, j],\n",
    "            horizontalalignment=\"center\",\n",
    "            color=\"white\" if cm[i, j] > thresh else \"black\")\n",
    "\n",
    "    plt.tight_layout()\n",
    "    plt.ylabel('Skutečnost',fontsize=15)\n",
    "    plt.xlabel('Predikce',fontsize=15)\n",
    "    \n",
    "    \n",
    "plot_confusion_matrix(cm=cm, classes=class_names)"
   ]
  },
  {
   "cell_type": "code",
   "execution_count": 25,
   "id": "1c7b8d2e",
   "metadata": {},
   "outputs": [
    {
     "name": "stdout",
     "output_type": "stream",
     "text": [
      "                   precision    recall  f1-score   support\n",
      "\n",
      "             good       0.89      1.00      0.94        73\n",
      "manipulated_front       1.00      0.40      0.57         5\n",
      "     scratch_head       1.00      0.40      0.57         5\n",
      "     scratch_neck       1.00      0.67      0.80         6\n",
      "      thread_side       0.25      0.17      0.20         6\n",
      "       thread_top       0.71      0.83      0.77         6\n",
      "\n",
      "         accuracy                           0.86       101\n",
      "        macro avg       0.81      0.58      0.64       101\n",
      "     weighted avg       0.86      0.86      0.84       101\n",
      "\n"
     ]
    }
   ],
   "source": [
    "print(classification_report(image_true, image_predict, target_names=class_names))"
   ]
  }
 ],
 "metadata": {
  "kernelspec": {
   "display_name": "Python 3 (ipykernel)",
   "language": "python",
   "name": "python3"
  },
  "language_info": {
   "codemirror_mode": {
    "name": "ipython",
    "version": 3
   },
   "file_extension": ".py",
   "mimetype": "text/x-python",
   "name": "python",
   "nbconvert_exporter": "python",
   "pygments_lexer": "ipython3",
   "version": "3.9.7"
  }
 },
 "nbformat": 4,
 "nbformat_minor": 5
}
