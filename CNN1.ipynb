{
 "cells": [
  {
   "cell_type": "markdown",
   "id": "1ffe19e2",
   "metadata": {},
   "source": [
    "# PŘÍPRAVA DATASETU"
   ]
  },
  {
   "cell_type": "markdown",
   "id": "8387a759",
   "metadata": {},
   "source": [
    "### Načtení potřebných knihoven"
   ]
  },
  {
   "cell_type": "code",
   "execution_count": 1,
   "id": "9a8841b7",
   "metadata": {},
   "outputs": [],
   "source": [
    "import matplotlib.pyplot as plt\n",
    "import numpy as np\n",
    "from tqdm.auto import tqdm\n",
    "import time\n",
    "import tensorflow as tf\n",
    "from tensorflow import keras\n",
    "from tensorflow.keras import layers , callbacks\n",
    "from tensorflow.keras.models import Sequential\n",
    "from tensorflow.keras.layers.experimental import preprocessing\n",
    "import pathlib\n",
    "import pandas as pd\n",
    "from sklearn.metrics import confusion_matrix , classification_report\n",
    "import itertools"
   ]
  },
  {
   "cell_type": "markdown",
   "id": "64031e89",
   "metadata": {},
   "source": [
    "### Ověření grafických procesorů"
   ]
  },
  {
   "cell_type": "code",
   "execution_count": null,
   "id": "1f0cd925",
   "metadata": {
    "scrolled": true
   },
   "outputs": [],
   "source": [
    "print(\"Num GPUs Available: \", len(tf.config.list_physical_devices('GPU')))\n",
    "\n",
    "gpus = tf.config.list_physical_devices('GPU')\n",
    "if gpus:\n",
    "  # Restrict TensorFlow to only use the first GPU\n",
    "  try:\n",
    "    tf.config.set_visible_devices(gpus[0], 'GPU')\n",
    "    logical_gpus = tf.config.list_logical_devices('GPU')\n",
    "    print(len(gpus), \"Physical GPUs,\", len(logical_gpus), \"Logical GPU\")\n",
    "  except RuntimeError as e:\n",
    "    # Visible devices must be set before GPUs have been initialized\n",
    "    print(e)"
   ]
  },
  {
   "cell_type": "markdown",
   "id": "f5ec031f",
   "metadata": {},
   "source": [
    "## Načtení dat do potřebné datové struktury"
   ]
  },
  {
   "cell_type": "markdown",
   "id": "0196e88f",
   "metadata": {},
   "source": [
    "### Cesty k datasetu"
   ]
  },
  {
   "cell_type": "code",
   "execution_count": 2,
   "id": "9deec6b3",
   "metadata": {},
   "outputs": [],
   "source": [
    "dataset_path = r\"C:\\Users\\HP\\Documents\\GIT-BP\\Screw_ds(50,30,20)\"\n",
    "\n",
    "train_path = pathlib.Path(dataset_path + '/train')\n",
    "valid_path = pathlib.Path(dataset_path + '/valid')\n",
    "test_path  = pathlib.Path(dataset_path + '/test')"
   ]
  },
  {
   "cell_type": "markdown",
   "id": "60c7b732",
   "metadata": {},
   "source": [
    "### Vytvoření datové struktury"
   ]
  },
  {
   "cell_type": "code",
   "execution_count": 3,
   "id": "5b49e35f",
   "metadata": {
    "scrolled": true
   },
   "outputs": [
    {
     "name": "stdout",
     "output_type": "stream",
     "text": [
      "Found 238 files belonging to 6 classes.\n",
      "Found 141 files belonging to 6 classes.\n",
      "Found 101 files belonging to 6 classes.\n",
      "['good', 'manipulated_front', 'scratch_head', 'scratch_neck', 'thread_side', 'thread_top']\n"
     ]
    }
   ],
   "source": [
    "labels='inferred'\n",
    "    #Either \"inferred\" (labels are generated from the directory structure),or a list/tuple of integer labels of the same size as the number of image files found in the directory.\n",
    "    #Labels should be sorted according to the alphanumeric order of the image file paths (obtained via os.walk(directory) in Python).\n",
    "\n",
    "label_mode='categorical'\n",
    "    #'int': means that the labels are encoded as integers (e.g. for sparse_categorical_crossentropy loss).\n",
    "    #'categorical' means that the labels are encoded as a categorical vector (e.g. for categorical_crossentropy loss).\n",
    "    #'binary' means that the labels (there can be only 2) are encoded as float32 scalars with values 0 or 1 (e.g. for binary_crossentropy).\n",
    "\n",
    "color_mode='rgb'\n",
    "    #One of \"grayscale\", \"rgb\", \"rgba\".\n",
    "    #Default: \"rgb\". Whether the images will be converted to have 1, 3, or 4 channels.\n",
    "\n",
    "image_size=(224, 224)\n",
    "    #Size to resize images to after they are read from disk.\n",
    "    #Defaults to (256, 256). Since the pipeline processes batches of images that must all have the same size, this must be provided.\n",
    "\n",
    "batch_size= 16\n",
    "    #Size of the batches of data. Default: 32.\n",
    "\n",
    "shuffle=True\n",
    "    #Whether to shuffle the data. Default: True. If set to False, sorts the data in alphanumeric order.\n",
    "\n",
    "seed=3\n",
    "    #Optional random seed for shuffling and transformations.\n",
    "\n",
    "train_ds = tf.keras.utils.image_dataset_from_directory(\n",
    "    train_path, \n",
    "    labels=labels,\n",
    "    label_mode=label_mode,\n",
    "    color_mode=color_mode,\n",
    "    image_size=image_size,\n",
    "    shuffle=shuffle,\n",
    "    seed=seed)\n",
    "\n",
    "valid_ds = tf.keras.utils.image_dataset_from_directory(\n",
    "    valid_path, \n",
    "    labels=labels,\n",
    "    label_mode=label_mode,\n",
    "    color_mode=color_mode,\n",
    "    image_size=image_size,\n",
    "    shuffle=shuffle,\n",
    "    seed=seed)\n",
    "\n",
    "test_ds = tf.keras.utils.image_dataset_from_directory(\n",
    "    test_path, \n",
    "    labels=labels,\n",
    "    label_mode=label_mode,\n",
    "    color_mode=color_mode,\n",
    "    image_size=image_size,\n",
    "    shuffle=shuffle,\n",
    "    seed=seed)\n",
    "\n",
    "class_names = test_ds.class_names\n",
    "print(class_names)"
   ]
  },
  {
   "cell_type": "code",
   "execution_count": 4,
   "id": "2235fcdf",
   "metadata": {},
   "outputs": [],
   "source": [
    "data_augmentation = tf.keras.Sequential([preprocessing.RandomFlip('horizontal')])"
   ]
  },
  {
   "cell_type": "markdown",
   "id": "a3da03fe",
   "metadata": {},
   "source": [
    "#### Předání velikoti obrázků dalším funkcím"
   ]
  },
  {
   "cell_type": "code",
   "execution_count": 5,
   "id": "31979b25",
   "metadata": {},
   "outputs": [],
   "source": [
    "a,b = image_size\n",
    "input_shape = (a,b,3)"
   ]
  },
  {
   "cell_type": "markdown",
   "id": "2973a353",
   "metadata": {},
   "source": [
    "### Vizualizace datasetu"
   ]
  },
  {
   "cell_type": "code",
   "execution_count": 6,
   "id": "0f5e24af",
   "metadata": {
    "scrolled": false
   },
   "outputs": [
    {
     "data": {
      "image/png": "[encoded data removed]",
      "text/plain": [
       "<Figure size 1080x1080 with 5 Axes>"
      ]
     },
     "metadata": {
      "needs_background": "light"
     },
     "output_type": "display_data"
    }
   ],
   "source": [
    "plt.figure(figsize=(15, 15))\n",
    "for images, labels in train_ds.take(1):\n",
    "    for i in range(5):\n",
    "        ax = plt.subplot(5, 5, i+1)\n",
    "        plt.imshow(images[i].numpy().astype(\"uint8\"))\n",
    "        plt.title(class_names[np.argmax(labels[i].numpy())])\n",
    "        plt.axis(\"off\")"
   ]
  },
  {
   "cell_type": "markdown",
   "id": "d94db4b4",
   "metadata": {},
   "source": [
    "## Data pipeline"
   ]
  },
  {
   "cell_type": "code",
   "execution_count": 7,
   "id": "115c0a41",
   "metadata": {},
   "outputs": [],
   "source": [
    "AUTOTUNE = tf.data.experimental.AUTOTUNE\n",
    "\n",
    "train_ds = (\n",
    "    train_ds\n",
    "    .cache()\n",
    "    .prefetch(buffer_size=AUTOTUNE)\n",
    ")\n",
    "test_ds = (\n",
    "    test_ds\n",
    "    .cache()\n",
    "    .prefetch(buffer_size=AUTOTUNE)\n",
    ")\n",
    "valid_ds = (\n",
    "    valid_ds\n",
    "    .cache()\n",
    "    .prefetch(buffer_size=AUTOTUNE)\n",
    ")"
   ]
  },
  {
   "cell_type": "markdown",
   "id": "049f984e",
   "metadata": {},
   "source": [
    "## Konvoluční neuronová síť"
   ]
  },
  {
   "cell_type": "markdown",
   "id": "8fe33787",
   "metadata": {},
   "source": [
    "### Normalization"
   ]
  },
  {
   "cell_type": "code",
   "execution_count": 8,
   "id": "21a84aec",
   "metadata": {},
   "outputs": [],
   "source": [
    "normalization_layer = tf.keras.layers.Rescaling(1./255)\n",
    "train_ds = train_ds.map(lambda x, y: (normalization_layer(x), y))\n",
    "valid_ds = valid_ds.map(lambda x, y: (normalization_layer(x), y))\n",
    "test_ds = test_ds.map(lambda x, y: (normalization_layer(x), y))"
   ]
  },
  {
   "cell_type": "markdown",
   "id": "fbae2ba7",
   "metadata": {},
   "source": [
    "### Data augmentation"
   ]
  },
  {
   "cell_type": "markdown",
   "id": "e62edf7d",
   "metadata": {},
   "source": [
    "### Předtrénovaná síť"
   ]
  },
  {
   "cell_type": "code",
   "execution_count": 9,
   "id": "7f95ab2b",
   "metadata": {},
   "outputs": [],
   "source": [
    "base_model = tf.keras.applications.vgg19.VGG19(\n",
    "    include_top=False,\n",
    "    weights='imagenet',\n",
    "    input_shape= input_shape)\n",
    "\n",
    "# Freeze the base_model\n",
    "base_model.trainable = False"
   ]
  },
  {
   "cell_type": "markdown",
   "id": "a1ac6b31",
   "metadata": {},
   "source": [
    "### Tvorba modelu"
   ]
  },
  {
   "cell_type": "code",
   "execution_count": 10,
   "id": "6d155afa",
   "metadata": {},
   "outputs": [],
   "source": [
    "def cnn_model():\n",
    "    model = tf.keras.Sequential()\n",
    "    \n",
    "    # model.add(data_augmentation) \n",
    "    \n",
    "    #Pretrained base\n",
    "    model.add(base_model)\n",
    "    \n",
    "    model.add(tf.keras.layers.Flatten())\n",
    "\n",
    "    #Head\n",
    "    model.add(tf.keras.layers.Dense(64,\n",
    "                                    activation='relu'))\n",
    "    model.add(tf.keras.layers.Dense(16,\n",
    "                                    activation='relu'))    \n",
    "    model.add(tf.keras.layers.Dense(6,\n",
    "                                    activation='softmax'))\n",
    "\n",
    "    return model"
   ]
  },
  {
   "cell_type": "code",
   "execution_count": 11,
   "id": "b9ed5b84",
   "metadata": {},
   "outputs": [],
   "source": [
    "model1 =  cnn_model()"
   ]
  },
  {
   "cell_type": "markdown",
   "id": "8f05618a",
   "metadata": {},
   "source": [
    "### Konfigurace modelu pro trénování"
   ]
  },
  {
   "cell_type": "markdown",
   "id": "151a1b0c",
   "metadata": {},
   "source": [
    "+ Adam optimization is a stochastic gradient descent method that is based on adaptive estimation of first-order and second-order moments.\n",
    "\n",
    "    + https://www.tensorflow.org/api_docs/python/tf/keras/optimizers"
   ]
  },
  {
   "cell_type": "code",
   "execution_count": 12,
   "id": "399a35ae",
   "metadata": {
    "scrolled": false
   },
   "outputs": [],
   "source": [
    "optimizer =tf.keras.optimizers.Adam(learning_rate=1e-5)"
   ]
  },
  {
   "cell_type": "code",
   "execution_count": 13,
   "id": "07e0fd62",
   "metadata": {},
   "outputs": [],
   "source": [
    "model1.compile(\n",
    "    optimizer = optimizer,\n",
    "    loss = 'categorical_crossentropy',\n",
    "    metrics=['accuracy'],\n",
    ")"
   ]
  },
  {
   "cell_type": "markdown",
   "id": "cbb83a0a",
   "metadata": {},
   "source": [
    "### Early stopping"
   ]
  },
  {
   "cell_type": "code",
   "execution_count": 14,
   "id": "b7f4741d",
   "metadata": {},
   "outputs": [],
   "source": [
    "early_stopping = callbacks.EarlyStopping(\n",
    "    monitor='val_loss',\n",
    "    min_delta=0.001,\n",
    "    patience=100,\n",
    "    verbose=1,\n",
    "    mode='min',\n",
    "    baseline=None,\n",
    "    restore_best_weights=True\n",
    ")"
   ]
  },
  {
   "cell_type": "markdown",
   "id": "9ec731e1",
   "metadata": {},
   "source": [
    "## Trénování modelu"
   ]
  },
  {
   "cell_type": "code",
   "execution_count": 15,
   "id": "7bfc031a",
   "metadata": {
    "scrolled": true
   },
   "outputs": [
    {
     "name": "stdout",
     "output_type": "stream",
     "text": [
      "Epoch 1/600\n",
      "8/8 [==============================] - 24s 2s/step - loss: 1.2886 - accuracy: 0.6555 - val_loss: 1.1774 - val_accuracy: 0.7660\n",
      "Epoch 2/600\n",
      "8/8 [==============================] - 4s 477ms/step - loss: 1.1028 - accuracy: 0.7563 - val_loss: 1.0386 - val_accuracy: 0.7660\n",
      "Epoch 3/600\n",
      "8/8 [==============================] - 4s 478ms/step - loss: 1.0126 - accuracy: 0.7563 - val_loss: 0.9785 - val_accuracy: 0.7660\n",
      "Epoch 4/600\n",
      "8/8 [==============================] - 4s 478ms/step - loss: 0.9800 - accuracy: 0.7563 - val_loss: 0.9626 - val_accuracy: 0.7660\n",
      "Epoch 5/600\n",
      "8/8 [==============================] - 4s 479ms/step - loss: 0.9601 - accuracy: 0.7563 - val_loss: 0.9543 - val_accuracy: 0.7660\n",
      "Epoch 6/600\n",
      "8/8 [==============================] - 4s 480ms/step - loss: 0.9473 - accuracy: 0.7563 - val_loss: 0.9452 - val_accuracy: 0.7660\n",
      "Epoch 7/600\n",
      "8/8 [==============================] - 4s 480ms/step - loss: 0.9315 - accuracy: 0.7563 - val_loss: 0.9425 - val_accuracy: 0.7660\n",
      "Epoch 8/600\n",
      "8/8 [==============================] - 4s 481ms/step - loss: 0.9207 - accuracy: 0.7563 - val_loss: 0.9369 - val_accuracy: 0.7660\n",
      "Epoch 9/600\n",
      "8/8 [==============================] - 4s 482ms/step - loss: 0.9063 - accuracy: 0.7563 - val_loss: 0.9341 - val_accuracy: 0.7660\n",
      "Epoch 10/600\n",
      "8/8 [==============================] - 4s 482ms/step - loss: 0.9115 - accuracy: 0.7563 - val_loss: 0.9268 - val_accuracy: 0.7660\n",
      "Epoch 11/600\n",
      "8/8 [==============================] - 4s 483ms/step - loss: 0.8918 - accuracy: 0.7563 - val_loss: 0.9194 - val_accuracy: 0.7660\n",
      "Epoch 12/600\n",
      "8/8 [==============================] - 4s 484ms/step - loss: 0.8797 - accuracy: 0.7563 - val_loss: 0.9142 - val_accuracy: 0.7660\n",
      "Epoch 13/600\n",
      "8/8 [==============================] - 4s 495ms/step - loss: 0.8772 - accuracy: 0.7563 - val_loss: 0.9117 - val_accuracy: 0.7660\n",
      "Epoch 14/600\n",
      "8/8 [==============================] - 4s 539ms/step - loss: 0.8671 - accuracy: 0.7563 - val_loss: 0.9056 - val_accuracy: 0.7660\n",
      "Epoch 15/600\n",
      "8/8 [==============================] - 4s 539ms/step - loss: 0.8726 - accuracy: 0.7563 - val_loss: 0.8977 - val_accuracy: 0.7660\n",
      "Epoch 16/600\n",
      "8/8 [==============================] - 4s 541ms/step - loss: 0.8549 - accuracy: 0.7563 - val_loss: 0.8920 - val_accuracy: 0.7660\n",
      "Epoch 17/600\n",
      "8/8 [==============================] - 4s 538ms/step - loss: 0.8486 - accuracy: 0.7563 - val_loss: 0.8892 - val_accuracy: 0.7660\n",
      "Epoch 18/600\n",
      "8/8 [==============================] - 4s 540ms/step - loss: 0.8254 - accuracy: 0.7563 - val_loss: 0.8873 - val_accuracy: 0.7660\n",
      "Epoch 19/600\n",
      "8/8 [==============================] - 4s 541ms/step - loss: 0.8300 - accuracy: 0.7563 - val_loss: 0.8858 - val_accuracy: 0.7660\n",
      "Epoch 20/600\n",
      "8/8 [==============================] - 4s 533ms/step - loss: 0.8311 - accuracy: 0.7563 - val_loss: 0.8857 - val_accuracy: 0.7660\n",
      "Epoch 21/600\n",
      "8/8 [==============================] - 4s 539ms/step - loss: 0.8150 - accuracy: 0.7563 - val_loss: 0.8801 - val_accuracy: 0.7660\n",
      "Epoch 22/600\n",
      "8/8 [==============================] - 4s 541ms/step - loss: 0.8077 - accuracy: 0.7563 - val_loss: 0.8765 - val_accuracy: 0.7660\n",
      "Epoch 23/600\n",
      "8/8 [==============================] - 4s 533ms/step - loss: 0.7847 - accuracy: 0.7563 - val_loss: 0.8765 - val_accuracy: 0.7660\n",
      "Epoch 24/600\n",
      "8/8 [==============================] - 4s 540ms/step - loss: 0.7940 - accuracy: 0.7563 - val_loss: 0.8733 - val_accuracy: 0.7660\n",
      "Epoch 25/600\n",
      "8/8 [==============================] - 4s 542ms/step - loss: 0.7983 - accuracy: 0.7563 - val_loss: 0.8682 - val_accuracy: 0.7660\n",
      "Epoch 26/600\n",
      "8/8 [==============================] - 4s 541ms/step - loss: 0.7762 - accuracy: 0.7563 - val_loss: 0.8669 - val_accuracy: 0.7660\n",
      "Epoch 27/600\n",
      "8/8 [==============================] - 4s 542ms/step - loss: 0.7665 - accuracy: 0.7563 - val_loss: 0.8638 - val_accuracy: 0.7660\n",
      "Epoch 28/600\n",
      "8/8 [==============================] - 4s 543ms/step - loss: 0.7564 - accuracy: 0.7563 - val_loss: 0.8626 - val_accuracy: 0.7660\n",
      "Epoch 29/600\n",
      "8/8 [==============================] - 4s 543ms/step - loss: 0.7547 - accuracy: 0.7563 - val_loss: 0.8611 - val_accuracy: 0.7660\n",
      "Epoch 30/600\n",
      "8/8 [==============================] - 4s 542ms/step - loss: 0.7630 - accuracy: 0.7563 - val_loss: 0.8533 - val_accuracy: 0.7660\n",
      "Epoch 31/600\n",
      "8/8 [==============================] - 4s 543ms/step - loss: 0.7439 - accuracy: 0.7563 - val_loss: 0.8475 - val_accuracy: 0.7660\n",
      "Epoch 32/600\n",
      "8/8 [==============================] - 4s 543ms/step - loss: 0.7320 - accuracy: 0.7605 - val_loss: 0.8447 - val_accuracy: 0.7660\n",
      "Epoch 33/600\n",
      "8/8 [==============================] - 4s 542ms/step - loss: 0.7386 - accuracy: 0.7731 - val_loss: 0.8433 - val_accuracy: 0.7660\n",
      "Epoch 34/600\n",
      "8/8 [==============================] - 4s 544ms/step - loss: 0.7235 - accuracy: 0.7689 - val_loss: 0.8413 - val_accuracy: 0.7660\n",
      "Epoch 35/600\n",
      "8/8 [==============================] - 4s 534ms/step - loss: 0.7403 - accuracy: 0.7605 - val_loss: 0.8413 - val_accuracy: 0.7660\n",
      "Epoch 36/600\n",
      "8/8 [==============================] - 4s 541ms/step - loss: 0.7255 - accuracy: 0.7605 - val_loss: 0.8394 - val_accuracy: 0.7660\n",
      "Epoch 37/600\n",
      "8/8 [==============================] - 4s 535ms/step - loss: 0.7014 - accuracy: 0.7731 - val_loss: 0.8412 - val_accuracy: 0.7660\n",
      "Epoch 38/600\n",
      "8/8 [==============================] - 4s 534ms/step - loss: 0.7048 - accuracy: 0.7773 - val_loss: 0.8414 - val_accuracy: 0.7660\n",
      "Epoch 39/600\n",
      "8/8 [==============================] - 4s 534ms/step - loss: 0.6919 - accuracy: 0.7689 - val_loss: 0.8414 - val_accuracy: 0.7660\n",
      "Epoch 40/600\n",
      "8/8 [==============================] - 4s 545ms/step - loss: 0.6996 - accuracy: 0.7773 - val_loss: 0.8373 - val_accuracy: 0.7660\n",
      "Epoch 41/600\n",
      "8/8 [==============================] - 4s 544ms/step - loss: 0.6887 - accuracy: 0.7773 - val_loss: 0.8312 - val_accuracy: 0.7660\n",
      "Epoch 42/600\n",
      "8/8 [==============================] - 4s 543ms/step - loss: 0.6896 - accuracy: 0.7731 - val_loss: 0.8274 - val_accuracy: 0.7660\n",
      "Epoch 43/600\n",
      "8/8 [==============================] - 4s 543ms/step - loss: 0.6852 - accuracy: 0.7731 - val_loss: 0.8241 - val_accuracy: 0.7660\n",
      "Epoch 44/600\n",
      "8/8 [==============================] - 4s 543ms/step - loss: 0.6829 - accuracy: 0.7815 - val_loss: 0.8225 - val_accuracy: 0.7660\n",
      "Epoch 45/600\n",
      "8/8 [==============================] - 4s 543ms/step - loss: 0.6766 - accuracy: 0.7857 - val_loss: 0.8195 - val_accuracy: 0.7660\n",
      "Epoch 46/600\n",
      "8/8 [==============================] - 4s 536ms/step - loss: 0.6561 - accuracy: 0.7857 - val_loss: 0.8212 - val_accuracy: 0.7660\n",
      "Epoch 47/600\n",
      "8/8 [==============================] - 4s 535ms/step - loss: 0.6557 - accuracy: 0.7815 - val_loss: 0.8197 - val_accuracy: 0.7660\n",
      "Epoch 48/600\n",
      "8/8 [==============================] - 4s 543ms/step - loss: 0.6469 - accuracy: 0.7857 - val_loss: 0.8130 - val_accuracy: 0.7660\n",
      "Epoch 49/600\n",
      "8/8 [==============================] - 4s 543ms/step - loss: 0.6387 - accuracy: 0.7941 - val_loss: 0.8110 - val_accuracy: 0.7660\n",
      "Epoch 50/600\n",
      "8/8 [==============================] - 4s 543ms/step - loss: 0.6461 - accuracy: 0.7941 - val_loss: 0.8080 - val_accuracy: 0.7660\n",
      "Epoch 51/600\n",
      "8/8 [==============================] - 4s 537ms/step - loss: 0.6361 - accuracy: 0.7941 - val_loss: 0.8083 - val_accuracy: 0.7660\n",
      "Epoch 52/600\n",
      "8/8 [==============================] - 4s 542ms/step - loss: 0.6454 - accuracy: 0.7941 - val_loss: 0.8030 - val_accuracy: 0.7660\n",
      "Epoch 53/600\n",
      "8/8 [==============================] - 4s 536ms/step - loss: 0.6333 - accuracy: 0.7857 - val_loss: 0.8048 - val_accuracy: 0.7660\n",
      "Epoch 54/600\n",
      "8/8 [==============================] - 4s 536ms/step - loss: 0.6287 - accuracy: 0.7857 - val_loss: 0.8086 - val_accuracy: 0.7660\n",
      "Epoch 55/600\n",
      "8/8 [==============================] - 4s 537ms/step - loss: 0.6171 - accuracy: 0.7941 - val_loss: 0.8084 - val_accuracy: 0.7660\n",
      "Epoch 56/600\n",
      "8/8 [==============================] - 4s 536ms/step - loss: 0.6223 - accuracy: 0.7941 - val_loss: 0.8057 - val_accuracy: 0.7660\n",
      "Epoch 57/600\n",
      "8/8 [==============================] - 4s 536ms/step - loss: 0.6035 - accuracy: 0.7983 - val_loss: 0.8040 - val_accuracy: 0.7660\n",
      "Epoch 58/600\n",
      "8/8 [==============================] - 4s 543ms/step - loss: 0.5971 - accuracy: 0.8025 - val_loss: 0.8017 - val_accuracy: 0.7660\n"
     ]
    },
    {
     "name": "stdout",
     "output_type": "stream",
     "text": [
      "Epoch 59/600\n",
      "8/8 [==============================] - 4s 537ms/step - loss: 0.5916 - accuracy: 0.8067 - val_loss: 0.8016 - val_accuracy: 0.7660\n",
      "Epoch 60/600\n",
      "8/8 [==============================] - 4s 536ms/step - loss: 0.5853 - accuracy: 0.8025 - val_loss: 0.8018 - val_accuracy: 0.7660\n",
      "Epoch 61/600\n",
      "8/8 [==============================] - 4s 544ms/step - loss: 0.5992 - accuracy: 0.8067 - val_loss: 0.7992 - val_accuracy: 0.7660\n",
      "Epoch 62/600\n",
      "8/8 [==============================] - 4s 547ms/step - loss: 0.5980 - accuracy: 0.7983 - val_loss: 0.7907 - val_accuracy: 0.7660\n",
      "Epoch 63/600\n",
      "8/8 [==============================] - 4s 537ms/step - loss: 0.5906 - accuracy: 0.7983 - val_loss: 0.7925 - val_accuracy: 0.7660\n",
      "Epoch 64/600\n",
      "8/8 [==============================] - 4s 544ms/step - loss: 0.5842 - accuracy: 0.7983 - val_loss: 0.7876 - val_accuracy: 0.7660\n",
      "Epoch 65/600\n",
      "8/8 [==============================] - 4s 537ms/step - loss: 0.5751 - accuracy: 0.8067 - val_loss: 0.7993 - val_accuracy: 0.7660\n",
      "Epoch 66/600\n",
      "8/8 [==============================] - 4s 545ms/step - loss: 0.5770 - accuracy: 0.8151 - val_loss: 0.7862 - val_accuracy: 0.7660\n",
      "Epoch 67/600\n",
      "8/8 [==============================] - 4s 545ms/step - loss: 0.5703 - accuracy: 0.7941 - val_loss: 0.7810 - val_accuracy: 0.7660\n",
      "Epoch 68/600\n",
      "8/8 [==============================] - 4s 538ms/step - loss: 0.5602 - accuracy: 0.8235 - val_loss: 0.7891 - val_accuracy: 0.7660\n",
      "Epoch 69/600\n",
      "8/8 [==============================] - 4s 537ms/step - loss: 0.5614 - accuracy: 0.8025 - val_loss: 0.7925 - val_accuracy: 0.7660\n",
      "Epoch 70/600\n",
      "8/8 [==============================] - 4s 545ms/step - loss: 0.5638 - accuracy: 0.7983 - val_loss: 0.7777 - val_accuracy: 0.7660\n",
      "Epoch 71/600\n",
      "8/8 [==============================] - 4s 539ms/step - loss: 0.5554 - accuracy: 0.8109 - val_loss: 0.7826 - val_accuracy: 0.7730\n",
      "Epoch 72/600\n",
      "8/8 [==============================] - 4s 538ms/step - loss: 0.5518 - accuracy: 0.8067 - val_loss: 0.7928 - val_accuracy: 0.7730\n",
      "Epoch 73/600\n",
      "8/8 [==============================] - 4s 538ms/step - loss: 0.5423 - accuracy: 0.8067 - val_loss: 0.7902 - val_accuracy: 0.7730\n",
      "Epoch 74/600\n",
      "8/8 [==============================] - 4s 537ms/step - loss: 0.5440 - accuracy: 0.7983 - val_loss: 0.7864 - val_accuracy: 0.7660\n",
      "Epoch 75/600\n",
      "8/8 [==============================] - 4s 538ms/step - loss: 0.5495 - accuracy: 0.8151 - val_loss: 0.7786 - val_accuracy: 0.7660\n",
      "Epoch 76/600\n",
      "8/8 [==============================] - 4s 538ms/step - loss: 0.5379 - accuracy: 0.8151 - val_loss: 0.7816 - val_accuracy: 0.7660\n",
      "Epoch 77/600\n",
      "8/8 [==============================] - 4s 538ms/step - loss: 0.5406 - accuracy: 0.8151 - val_loss: 0.7808 - val_accuracy: 0.7660\n",
      "Epoch 78/600\n",
      "8/8 [==============================] - 4s 538ms/step - loss: 0.5431 - accuracy: 0.8025 - val_loss: 0.7790 - val_accuracy: 0.7660\n",
      "Epoch 79/600\n",
      "8/8 [==============================] - 4s 538ms/step - loss: 0.5271 - accuracy: 0.7983 - val_loss: 0.7769 - val_accuracy: 0.7730\n",
      "Epoch 80/600\n",
      "8/8 [==============================] - 4s 545ms/step - loss: 0.5160 - accuracy: 0.8067 - val_loss: 0.7729 - val_accuracy: 0.7730\n",
      "Epoch 81/600\n",
      "8/8 [==============================] - 4s 547ms/step - loss: 0.5234 - accuracy: 0.8151 - val_loss: 0.7712 - val_accuracy: 0.7730\n",
      "Epoch 82/600\n",
      "8/8 [==============================] - 4s 539ms/step - loss: 0.5241 - accuracy: 0.8109 - val_loss: 0.7719 - val_accuracy: 0.7730\n",
      "Epoch 83/600\n",
      "8/8 [==============================] - 4s 539ms/step - loss: 0.5173 - accuracy: 0.8109 - val_loss: 0.7734 - val_accuracy: 0.7730\n",
      "Epoch 84/600\n",
      "8/8 [==============================] - 4s 538ms/step - loss: 0.5071 - accuracy: 0.8193 - val_loss: 0.7722 - val_accuracy: 0.7730\n",
      "Epoch 85/600\n",
      "8/8 [==============================] - 4s 546ms/step - loss: 0.5180 - accuracy: 0.8151 - val_loss: 0.7674 - val_accuracy: 0.7730\n",
      "Epoch 86/600\n",
      "8/8 [==============================] - 4s 547ms/step - loss: 0.5151 - accuracy: 0.8193 - val_loss: 0.7634 - val_accuracy: 0.7730\n",
      "Epoch 87/600\n",
      "8/8 [==============================] - 4s 538ms/step - loss: 0.5041 - accuracy: 0.8193 - val_loss: 0.7693 - val_accuracy: 0.7730\n",
      "Epoch 88/600\n",
      "8/8 [==============================] - 4s 536ms/step - loss: 0.5096 - accuracy: 0.8235 - val_loss: 0.7777 - val_accuracy: 0.7730\n",
      "Epoch 89/600\n",
      "8/8 [==============================] - 4s 537ms/step - loss: 0.4977 - accuracy: 0.8193 - val_loss: 0.7704 - val_accuracy: 0.7730\n",
      "Epoch 90/600\n",
      "8/8 [==============================] - 4s 539ms/step - loss: 0.4938 - accuracy: 0.8193 - val_loss: 0.7660 - val_accuracy: 0.7730\n",
      "Epoch 91/600\n",
      "8/8 [==============================] - 4s 538ms/step - loss: 0.4802 - accuracy: 0.8235 - val_loss: 0.7694 - val_accuracy: 0.7730\n",
      "Epoch 92/600\n",
      "8/8 [==============================] - 4s 545ms/step - loss: 0.4927 - accuracy: 0.8235 - val_loss: 0.7597 - val_accuracy: 0.7730\n",
      "Epoch 93/600\n",
      "8/8 [==============================] - 4s 546ms/step - loss: 0.4961 - accuracy: 0.8193 - val_loss: 0.7575 - val_accuracy: 0.7801\n",
      "Epoch 94/600\n",
      "8/8 [==============================] - 4s 538ms/step - loss: 0.4874 - accuracy: 0.8277 - val_loss: 0.7602 - val_accuracy: 0.7730\n",
      "Epoch 95/600\n",
      "8/8 [==============================] - 4s 538ms/step - loss: 0.4826 - accuracy: 0.8235 - val_loss: 0.7697 - val_accuracy: 0.7730\n",
      "Epoch 96/600\n",
      "8/8 [==============================] - 4s 538ms/step - loss: 0.4764 - accuracy: 0.8235 - val_loss: 0.7741 - val_accuracy: 0.7801\n",
      "Epoch 97/600\n",
      "8/8 [==============================] - 4s 538ms/step - loss: 0.4679 - accuracy: 0.8235 - val_loss: 0.7624 - val_accuracy: 0.7801\n",
      "Epoch 98/600\n",
      "8/8 [==============================] - 4s 538ms/step - loss: 0.4713 - accuracy: 0.8235 - val_loss: 0.7636 - val_accuracy: 0.7730\n",
      "Epoch 99/600\n",
      "8/8 [==============================] - 4s 537ms/step - loss: 0.4705 - accuracy: 0.8277 - val_loss: 0.7781 - val_accuracy: 0.7730\n",
      "Epoch 100/600\n",
      "8/8 [==============================] - 4s 539ms/step - loss: 0.4703 - accuracy: 0.8235 - val_loss: 0.7569 - val_accuracy: 0.7801\n",
      "Epoch 101/600\n",
      "8/8 [==============================] - 4s 546ms/step - loss: 0.4745 - accuracy: 0.8235 - val_loss: 0.7529 - val_accuracy: 0.7801\n",
      "Epoch 102/600\n",
      "8/8 [==============================] - 4s 539ms/step - loss: 0.4537 - accuracy: 0.8277 - val_loss: 0.7641 - val_accuracy: 0.7801\n",
      "Epoch 103/600\n",
      "8/8 [==============================] - 4s 539ms/step - loss: 0.4582 - accuracy: 0.8235 - val_loss: 0.7679 - val_accuracy: 0.7801\n",
      "Epoch 104/600\n",
      "8/8 [==============================] - 4s 538ms/step - loss: 0.4573 - accuracy: 0.8319 - val_loss: 0.7652 - val_accuracy: 0.7801\n",
      "Epoch 105/600\n",
      "8/8 [==============================] - 4s 539ms/step - loss: 0.4559 - accuracy: 0.8277 - val_loss: 0.7571 - val_accuracy: 0.7801\n",
      "Epoch 106/600\n",
      "8/8 [==============================] - 4s 547ms/step - loss: 0.4483 - accuracy: 0.8193 - val_loss: 0.7504 - val_accuracy: 0.7801\n",
      "Epoch 107/600\n",
      "8/8 [==============================] - 4s 541ms/step - loss: 0.4504 - accuracy: 0.8277 - val_loss: 0.7581 - val_accuracy: 0.7801\n",
      "Epoch 108/600\n",
      "8/8 [==============================] - 4s 540ms/step - loss: 0.4523 - accuracy: 0.8235 - val_loss: 0.7559 - val_accuracy: 0.7801\n",
      "Epoch 109/600\n",
      "8/8 [==============================] - 4s 539ms/step - loss: 0.4471 - accuracy: 0.8235 - val_loss: 0.7543 - val_accuracy: 0.7801\n",
      "Epoch 110/600\n",
      "8/8 [==============================] - 4s 546ms/step - loss: 0.4431 - accuracy: 0.8361 - val_loss: 0.7436 - val_accuracy: 0.7801\n",
      "Epoch 111/600\n",
      "8/8 [==============================] - 4s 539ms/step - loss: 0.4342 - accuracy: 0.8319 - val_loss: 0.7491 - val_accuracy: 0.7801\n",
      "Epoch 112/600\n",
      "8/8 [==============================] - 4s 539ms/step - loss: 0.4298 - accuracy: 0.8361 - val_loss: 0.7500 - val_accuracy: 0.7801\n",
      "Epoch 113/600\n",
      "8/8 [==============================] - 4s 539ms/step - loss: 0.4314 - accuracy: 0.8319 - val_loss: 0.7559 - val_accuracy: 0.7801\n",
      "Epoch 114/600\n",
      "8/8 [==============================] - 4s 539ms/step - loss: 0.4233 - accuracy: 0.8445 - val_loss: 0.7545 - val_accuracy: 0.7801\n",
      "Epoch 115/600\n",
      "8/8 [==============================] - 4s 539ms/step - loss: 0.4279 - accuracy: 0.8361 - val_loss: 0.7452 - val_accuracy: 0.7801\n",
      "Epoch 116/600\n",
      "8/8 [==============================] - 4s 539ms/step - loss: 0.4290 - accuracy: 0.8235 - val_loss: 0.7538 - val_accuracy: 0.7801\n",
      "Epoch 117/600\n",
      "8/8 [==============================] - 4s 539ms/step - loss: 0.4271 - accuracy: 0.8235 - val_loss: 0.7525 - val_accuracy: 0.7801\n",
      "Epoch 118/600\n",
      "8/8 [==============================] - 4s 540ms/step - loss: 0.4266 - accuracy: 0.8361 - val_loss: 0.7487 - val_accuracy: 0.7872\n",
      "Epoch 119/600\n",
      "8/8 [==============================] - 4s 540ms/step - loss: 0.4210 - accuracy: 0.8361 - val_loss: 0.7492 - val_accuracy: 0.7801\n",
      "Epoch 120/600\n",
      "8/8 [==============================] - 4s 540ms/step - loss: 0.4097 - accuracy: 0.8403 - val_loss: 0.7678 - val_accuracy: 0.7801\n",
      "Epoch 121/600\n",
      "8/8 [==============================] - 4s 540ms/step - loss: 0.4085 - accuracy: 0.8403 - val_loss: 0.7591 - val_accuracy: 0.7801\n",
      "Epoch 122/600\n",
      "8/8 [==============================] - 4s 539ms/step - loss: 0.4105 - accuracy: 0.8403 - val_loss: 0.7503 - val_accuracy: 0.7801\n",
      "Epoch 123/600\n",
      "8/8 [==============================] - 4s 550ms/step - loss: 0.4045 - accuracy: 0.8445 - val_loss: 0.7379 - val_accuracy: 0.7801\n",
      "Epoch 124/600\n",
      "8/8 [==============================] - 4s 545ms/step - loss: 0.4148 - accuracy: 0.8403 - val_loss: 0.7408 - val_accuracy: 0.7801\n",
      "Epoch 125/600\n",
      "8/8 [==============================] - 4s 540ms/step - loss: 0.4056 - accuracy: 0.8487 - val_loss: 0.7380 - val_accuracy: 0.7801\n",
      "Epoch 126/600\n",
      "8/8 [==============================] - 4s 539ms/step - loss: 0.4062 - accuracy: 0.8361 - val_loss: 0.7474 - val_accuracy: 0.7801\n",
      "Epoch 127/600\n",
      "8/8 [==============================] - 4s 539ms/step - loss: 0.4007 - accuracy: 0.8487 - val_loss: 0.7459 - val_accuracy: 0.7801\n",
      "Epoch 128/600\n",
      "8/8 [==============================] - 4s 539ms/step - loss: 0.3967 - accuracy: 0.8529 - val_loss: 0.7393 - val_accuracy: 0.7801\n",
      "Epoch 129/600\n",
      "8/8 [==============================] - 4s 539ms/step - loss: 0.3964 - accuracy: 0.8487 - val_loss: 0.7429 - val_accuracy: 0.7801\n",
      "Epoch 130/600\n",
      "8/8 [==============================] - 4s 547ms/step - loss: 0.3874 - accuracy: 0.8445 - val_loss: 0.7360 - val_accuracy: 0.7872\n",
      "Epoch 131/600\n",
      "8/8 [==============================] - 4s 541ms/step - loss: 0.3812 - accuracy: 0.8445 - val_loss: 0.7405 - val_accuracy: 0.7872\n",
      "Epoch 132/600\n",
      "8/8 [==============================] - 4s 540ms/step - loss: 0.3971 - accuracy: 0.8445 - val_loss: 0.7448 - val_accuracy: 0.7801\n",
      "Epoch 133/600\n",
      "8/8 [==============================] - 4s 539ms/step - loss: 0.3855 - accuracy: 0.8487 - val_loss: 0.7517 - val_accuracy: 0.7801\n",
      "Epoch 134/600\n",
      "8/8 [==============================] - 4s 550ms/step - loss: 0.3834 - accuracy: 0.8487 - val_loss: 0.7349 - val_accuracy: 0.7872\n",
      "Epoch 135/600\n",
      "8/8 [==============================] - 4s 543ms/step - loss: 0.3850 - accuracy: 0.8403 - val_loss: 0.7397 - val_accuracy: 0.7943\n",
      "Epoch 136/600\n",
      "8/8 [==============================] - 4s 539ms/step - loss: 0.3809 - accuracy: 0.8445 - val_loss: 0.7577 - val_accuracy: 0.7801\n",
      "Epoch 137/600\n",
      "8/8 [==============================] - 4s 540ms/step - loss: 0.3899 - accuracy: 0.8445 - val_loss: 0.7443 - val_accuracy: 0.7872\n",
      "Epoch 138/600\n",
      "8/8 [==============================] - 4s 543ms/step - loss: 0.3829 - accuracy: 0.8529 - val_loss: 0.7431 - val_accuracy: 0.7872\n",
      "Epoch 139/600\n",
      "8/8 [==============================] - 4s 542ms/step - loss: 0.3789 - accuracy: 0.8361 - val_loss: 0.7525 - val_accuracy: 0.7801\n",
      "Epoch 140/600\n",
      "8/8 [==============================] - 4s 540ms/step - loss: 0.3787 - accuracy: 0.8445 - val_loss: 0.7640 - val_accuracy: 0.7801\n",
      "Epoch 141/600\n",
      "8/8 [==============================] - 4s 539ms/step - loss: 0.3863 - accuracy: 0.8403 - val_loss: 0.7585 - val_accuracy: 0.7801\n",
      "Epoch 142/600\n",
      "8/8 [==============================] - 4s 539ms/step - loss: 0.3690 - accuracy: 0.8445 - val_loss: 0.7454 - val_accuracy: 0.7872\n",
      "Epoch 143/600\n",
      "8/8 [==============================] - 4s 540ms/step - loss: 0.3692 - accuracy: 0.8445 - val_loss: 0.7461 - val_accuracy: 0.7943\n",
      "Epoch 144/600\n",
      "8/8 [==============================] - 4s 539ms/step - loss: 0.3731 - accuracy: 0.8445 - val_loss: 0.7655 - val_accuracy: 0.7801\n",
      "Epoch 145/600\n",
      "8/8 [==============================] - 4s 541ms/step - loss: 0.3683 - accuracy: 0.8487 - val_loss: 0.7467 - val_accuracy: 0.7943\n",
      "Epoch 146/600\n",
      "8/8 [==============================] - 4s 548ms/step - loss: 0.3631 - accuracy: 0.8529 - val_loss: 0.7312 - val_accuracy: 0.7872\n",
      "Epoch 147/600\n",
      "8/8 [==============================] - 4s 541ms/step - loss: 0.3583 - accuracy: 0.8529 - val_loss: 0.7337 - val_accuracy: 0.7872\n",
      "Epoch 148/600\n",
      "8/8 [==============================] - 4s 540ms/step - loss: 0.3656 - accuracy: 0.8487 - val_loss: 0.7312 - val_accuracy: 0.7943\n",
      "Epoch 149/600\n",
      "8/8 [==============================] - 4s 540ms/step - loss: 0.3635 - accuracy: 0.8445 - val_loss: 0.7538 - val_accuracy: 0.7872\n",
      "Epoch 150/600\n",
      "8/8 [==============================] - 4s 540ms/step - loss: 0.3588 - accuracy: 0.8487 - val_loss: 0.7624 - val_accuracy: 0.7872\n",
      "Epoch 151/600\n",
      "8/8 [==============================] - 4s 540ms/step - loss: 0.3501 - accuracy: 0.8487 - val_loss: 0.7584 - val_accuracy: 0.7872\n",
      "Epoch 152/600\n",
      "8/8 [==============================] - 4s 539ms/step - loss: 0.3553 - accuracy: 0.8445 - val_loss: 0.7526 - val_accuracy: 0.7801\n",
      "Epoch 153/600\n",
      "8/8 [==============================] - 4s 540ms/step - loss: 0.3507 - accuracy: 0.8487 - val_loss: 0.7437 - val_accuracy: 0.7872\n",
      "Epoch 154/600\n",
      "8/8 [==============================] - 4s 540ms/step - loss: 0.3484 - accuracy: 0.8529 - val_loss: 0.7502 - val_accuracy: 0.7872\n",
      "Epoch 155/600\n",
      "8/8 [==============================] - 4s 540ms/step - loss: 0.3448 - accuracy: 0.8487 - val_loss: 0.7457 - val_accuracy: 0.7943\n",
      "Epoch 156/600\n",
      "8/8 [==============================] - 4s 540ms/step - loss: 0.3432 - accuracy: 0.8529 - val_loss: 0.7465 - val_accuracy: 0.7872\n",
      "Epoch 157/600\n",
      "8/8 [==============================] - 4s 540ms/step - loss: 0.3420 - accuracy: 0.8529 - val_loss: 0.7365 - val_accuracy: 0.8014\n",
      "Epoch 158/600\n",
      "8/8 [==============================] - 4s 539ms/step - loss: 0.3401 - accuracy: 0.8571 - val_loss: 0.7504 - val_accuracy: 0.7872\n",
      "Epoch 159/600\n",
      "8/8 [==============================] - 4s 540ms/step - loss: 0.3417 - accuracy: 0.8487 - val_loss: 0.7849 - val_accuracy: 0.7801\n",
      "Epoch 160/600\n",
      "8/8 [==============================] - 4s 541ms/step - loss: 0.3470 - accuracy: 0.8487 - val_loss: 0.7546 - val_accuracy: 0.7943\n",
      "Epoch 161/600\n",
      "8/8 [==============================] - 4s 540ms/step - loss: 0.3387 - accuracy: 0.8571 - val_loss: 0.7320 - val_accuracy: 0.8085\n",
      "Epoch 162/600\n",
      "8/8 [==============================] - 4s 540ms/step - loss: 0.3331 - accuracy: 0.8529 - val_loss: 0.7303 - val_accuracy: 0.8085\n",
      "Epoch 163/600\n",
      "8/8 [==============================] - 4s 543ms/step - loss: 0.3381 - accuracy: 0.8529 - val_loss: 0.7518 - val_accuracy: 0.7943\n",
      "Epoch 164/600\n",
      "8/8 [==============================] - 4s 542ms/step - loss: 0.3315 - accuracy: 0.8529 - val_loss: 0.7475 - val_accuracy: 0.8014\n",
      "Epoch 165/600\n",
      "8/8 [==============================] - 4s 542ms/step - loss: 0.3252 - accuracy: 0.8571 - val_loss: 0.7484 - val_accuracy: 0.7943\n",
      "Epoch 166/600\n",
      "8/8 [==============================] - 4s 547ms/step - loss: 0.3269 - accuracy: 0.8613 - val_loss: 0.7415 - val_accuracy: 0.7943\n",
      "Epoch 167/600\n",
      "8/8 [==============================] - 4s 542ms/step - loss: 0.3230 - accuracy: 0.8739 - val_loss: 0.7806 - val_accuracy: 0.7801\n",
      "Epoch 168/600\n",
      "8/8 [==============================] - 4s 544ms/step - loss: 0.3260 - accuracy: 0.8655 - val_loss: 0.7784 - val_accuracy: 0.7801\n",
      "Epoch 169/600\n",
      "8/8 [==============================] - 4s 541ms/step - loss: 0.3278 - accuracy: 0.8529 - val_loss: 0.7475 - val_accuracy: 0.7943\n",
      "Epoch 170/600\n",
      "8/8 [==============================] - 4s 544ms/step - loss: 0.3226 - accuracy: 0.8529 - val_loss: 0.7338 - val_accuracy: 0.8014\n",
      "Epoch 171/600\n",
      "8/8 [==============================] - 4s 541ms/step - loss: 0.3222 - accuracy: 0.8529 - val_loss: 0.7485 - val_accuracy: 0.8014\n",
      "Epoch 172/600\n",
      "8/8 [==============================] - 4s 542ms/step - loss: 0.3137 - accuracy: 0.8739 - val_loss: 0.7819 - val_accuracy: 0.7872\n",
      "Epoch 173/600\n"
     ]
    },
    {
     "name": "stdout",
     "output_type": "stream",
     "text": [
      "8/8 [==============================] - 4s 541ms/step - loss: 0.3225 - accuracy: 0.8655 - val_loss: 0.7691 - val_accuracy: 0.8014\n",
      "Epoch 174/600\n",
      "8/8 [==============================] - 4s 548ms/step - loss: 0.3130 - accuracy: 0.8571 - val_loss: 0.7424 - val_accuracy: 0.8014\n",
      "Epoch 175/600\n",
      "8/8 [==============================] - 4s 559ms/step - loss: 0.3120 - accuracy: 0.8571 - val_loss: 0.7249 - val_accuracy: 0.8014\n",
      "Epoch 176/600\n",
      "8/8 [==============================] - 4s 546ms/step - loss: 0.3089 - accuracy: 0.8697 - val_loss: 0.7557 - val_accuracy: 0.8014\n",
      "Epoch 177/600\n",
      "8/8 [==============================] - 4s 542ms/step - loss: 0.3120 - accuracy: 0.8782 - val_loss: 0.7707 - val_accuracy: 0.8014\n",
      "Epoch 178/600\n",
      "8/8 [==============================] - 4s 542ms/step - loss: 0.3110 - accuracy: 0.8782 - val_loss: 0.7701 - val_accuracy: 0.8014\n",
      "Epoch 179/600\n",
      "8/8 [==============================] - 4s 541ms/step - loss: 0.3075 - accuracy: 0.8697 - val_loss: 0.7493 - val_accuracy: 0.8014\n",
      "Epoch 180/600\n",
      "8/8 [==============================] - 4s 541ms/step - loss: 0.3079 - accuracy: 0.8697 - val_loss: 0.7565 - val_accuracy: 0.8156\n",
      "Epoch 181/600\n",
      "8/8 [==============================] - 4s 541ms/step - loss: 0.3001 - accuracy: 0.8782 - val_loss: 0.7532 - val_accuracy: 0.8014\n",
      "Epoch 182/600\n",
      "8/8 [==============================] - 4s 541ms/step - loss: 0.3043 - accuracy: 0.8613 - val_loss: 0.7805 - val_accuracy: 0.7943\n",
      "Epoch 183/600\n",
      "8/8 [==============================] - 4s 543ms/step - loss: 0.3001 - accuracy: 0.8908 - val_loss: 0.7659 - val_accuracy: 0.8085\n",
      "Epoch 184/600\n",
      "8/8 [==============================] - 4s 543ms/step - loss: 0.3093 - accuracy: 0.8824 - val_loss: 0.7436 - val_accuracy: 0.8085\n",
      "Epoch 185/600\n",
      "8/8 [==============================] - 4s 550ms/step - loss: 0.2964 - accuracy: 0.8613 - val_loss: 0.7474 - val_accuracy: 0.8014\n",
      "Epoch 186/600\n",
      "8/8 [==============================] - 4s 549ms/step - loss: 0.2952 - accuracy: 0.8739 - val_loss: 0.7519 - val_accuracy: 0.8014\n",
      "Epoch 187/600\n",
      "8/8 [==============================] - 4s 548ms/step - loss: 0.2979 - accuracy: 0.8782 - val_loss: 0.7718 - val_accuracy: 0.7943\n",
      "Epoch 188/600\n",
      "8/8 [==============================] - 4s 539ms/step - loss: 0.2978 - accuracy: 0.8824 - val_loss: 0.7783 - val_accuracy: 0.7943\n",
      "Epoch 189/600\n",
      "8/8 [==============================] - 4s 541ms/step - loss: 0.2912 - accuracy: 0.8908 - val_loss: 0.7733 - val_accuracy: 0.8014\n",
      "Epoch 190/600\n",
      "8/8 [==============================] - 4s 548ms/step - loss: 0.2898 - accuracy: 0.8866 - val_loss: 0.7627 - val_accuracy: 0.8014\n",
      "Epoch 191/600\n",
      "8/8 [==============================] - 4s 540ms/step - loss: 0.2863 - accuracy: 0.8866 - val_loss: 0.7477 - val_accuracy: 0.8085\n",
      "Epoch 192/600\n",
      "8/8 [==============================] - 4s 540ms/step - loss: 0.2855 - accuracy: 0.8824 - val_loss: 0.7543 - val_accuracy: 0.8014\n",
      "Epoch 193/600\n",
      "8/8 [==============================] - 4s 543ms/step - loss: 0.2842 - accuracy: 0.8908 - val_loss: 0.7964 - val_accuracy: 0.8014\n",
      "Epoch 194/600\n",
      "8/8 [==============================] - 4s 546ms/step - loss: 0.2844 - accuracy: 0.8908 - val_loss: 0.8232 - val_accuracy: 0.7943\n",
      "Epoch 195/600\n",
      "8/8 [==============================] - 4s 541ms/step - loss: 0.3005 - accuracy: 0.8866 - val_loss: 0.7534 - val_accuracy: 0.8014\n",
      "Epoch 196/600\n",
      "8/8 [==============================] - 4s 545ms/step - loss: 0.2855 - accuracy: 0.8739 - val_loss: 0.7339 - val_accuracy: 0.8085\n",
      "Epoch 197/600\n",
      "8/8 [==============================] - 4s 541ms/step - loss: 0.2797 - accuracy: 0.8824 - val_loss: 0.7409 - val_accuracy: 0.8085\n",
      "Epoch 198/600\n",
      "8/8 [==============================] - 4s 541ms/step - loss: 0.2786 - accuracy: 0.8908 - val_loss: 0.7813 - val_accuracy: 0.8085\n",
      "Epoch 199/600\n",
      "8/8 [==============================] - 4s 542ms/step - loss: 0.2816 - accuracy: 0.8908 - val_loss: 0.7752 - val_accuracy: 0.8014\n",
      "Epoch 200/600\n",
      "8/8 [==============================] - 4s 541ms/step - loss: 0.2714 - accuracy: 0.8950 - val_loss: 0.7748 - val_accuracy: 0.8085\n",
      "Epoch 201/600\n",
      "8/8 [==============================] - 4s 542ms/step - loss: 0.2722 - accuracy: 0.8992 - val_loss: 0.7526 - val_accuracy: 0.8156\n",
      "Epoch 202/600\n",
      "8/8 [==============================] - 4s 540ms/step - loss: 0.2703 - accuracy: 0.8866 - val_loss: 0.7508 - val_accuracy: 0.8085\n",
      "Epoch 203/600\n",
      "8/8 [==============================] - 4s 543ms/step - loss: 0.2729 - accuracy: 0.8908 - val_loss: 0.7595 - val_accuracy: 0.8085\n",
      "Epoch 204/600\n",
      "8/8 [==============================] - 4s 542ms/step - loss: 0.2652 - accuracy: 0.8950 - val_loss: 0.7546 - val_accuracy: 0.8014\n",
      "Epoch 205/600\n",
      "8/8 [==============================] - 4s 542ms/step - loss: 0.2712 - accuracy: 0.8950 - val_loss: 0.7602 - val_accuracy: 0.8014\n",
      "Epoch 206/600\n",
      "8/8 [==============================] - 4s 543ms/step - loss: 0.2695 - accuracy: 0.8950 - val_loss: 0.7624 - val_accuracy: 0.8085\n",
      "Epoch 207/600\n",
      "8/8 [==============================] - 4s 543ms/step - loss: 0.2558 - accuracy: 0.9034 - val_loss: 0.7578 - val_accuracy: 0.8014\n",
      "Epoch 208/600\n",
      "8/8 [==============================] - 4s 541ms/step - loss: 0.2606 - accuracy: 0.9034 - val_loss: 0.7786 - val_accuracy: 0.8014\n",
      "Epoch 209/600\n",
      "8/8 [==============================] - 4s 541ms/step - loss: 0.2565 - accuracy: 0.8908 - val_loss: 0.7934 - val_accuracy: 0.8085\n",
      "Epoch 210/600\n",
      "8/8 [==============================] - 4s 542ms/step - loss: 0.2579 - accuracy: 0.9076 - val_loss: 0.7454 - val_accuracy: 0.8085\n",
      "Epoch 211/600\n",
      "8/8 [==============================] - 4s 549ms/step - loss: 0.2564 - accuracy: 0.9118 - val_loss: 0.7419 - val_accuracy: 0.8085\n",
      "Epoch 212/600\n",
      "8/8 [==============================] - 4s 550ms/step - loss: 0.2635 - accuracy: 0.8866 - val_loss: 0.7685 - val_accuracy: 0.8014\n",
      "Epoch 213/600\n",
      "8/8 [==============================] - 4s 547ms/step - loss: 0.2561 - accuracy: 0.9118 - val_loss: 0.8189 - val_accuracy: 0.8014\n",
      "Epoch 214/600\n",
      "8/8 [==============================] - 4s 544ms/step - loss: 0.2622 - accuracy: 0.8950 - val_loss: 0.7802 - val_accuracy: 0.8014\n",
      "Epoch 215/600\n",
      "8/8 [==============================] - 4s 541ms/step - loss: 0.2540 - accuracy: 0.9034 - val_loss: 0.7561 - val_accuracy: 0.8085\n",
      "Epoch 216/600\n",
      "8/8 [==============================] - 4s 541ms/step - loss: 0.2509 - accuracy: 0.9076 - val_loss: 0.7453 - val_accuracy: 0.8085\n",
      "Epoch 217/600\n",
      "8/8 [==============================] - 4s 542ms/step - loss: 0.2546 - accuracy: 0.8992 - val_loss: 0.7681 - val_accuracy: 0.8085\n",
      "Epoch 218/600\n",
      "8/8 [==============================] - 4s 544ms/step - loss: 0.2534 - accuracy: 0.9076 - val_loss: 0.8139 - val_accuracy: 0.8014\n",
      "Epoch 219/600\n",
      "8/8 [==============================] - 4s 542ms/step - loss: 0.2473 - accuracy: 0.9034 - val_loss: 0.7926 - val_accuracy: 0.8085\n",
      "Epoch 220/600\n",
      "8/8 [==============================] - 4s 541ms/step - loss: 0.2488 - accuracy: 0.9034 - val_loss: 0.7497 - val_accuracy: 0.8085\n",
      "Epoch 221/600\n",
      "8/8 [==============================] - 4s 541ms/step - loss: 0.2419 - accuracy: 0.9160 - val_loss: 0.7549 - val_accuracy: 0.8085\n",
      "Epoch 222/600\n",
      "8/8 [==============================] - 4s 548ms/step - loss: 0.2413 - accuracy: 0.8992 - val_loss: 0.7693 - val_accuracy: 0.8085\n",
      "Epoch 223/600\n",
      "8/8 [==============================] - 4s 543ms/step - loss: 0.2474 - accuracy: 0.8992 - val_loss: 0.7537 - val_accuracy: 0.8085\n",
      "Epoch 224/600\n",
      "8/8 [==============================] - 4s 543ms/step - loss: 0.2455 - accuracy: 0.9034 - val_loss: 0.7558 - val_accuracy: 0.8085\n",
      "Epoch 225/600\n",
      "8/8 [==============================] - ETA: 0s - loss: 0.2390 - accuracy: 0.9076Restoring model weights from the end of the best epoch: 175.\n",
      "8/8 [==============================] - 4s 546ms/step - loss: 0.2390 - accuracy: 0.9076 - val_loss: 0.7804 - val_accuracy: 0.8014\n",
      "Epoch 00225: early stopping\n"
     ]
    }
   ],
   "source": [
    "history = model1.fit(\n",
    "    train_ds,\n",
    "    validation_data = valid_ds,\n",
    "    epochs=600,\n",
    "    verbose = 1,\n",
    "    callbacks=early_stopping\n",
    "    )"
   ]
  },
  {
   "cell_type": "code",
   "execution_count": 16,
   "id": "26894ba8",
   "metadata": {},
   "outputs": [
    {
     "name": "stdout",
     "output_type": "stream",
     "text": [
      "Model: \"vgg19\"\n",
      "_________________________________________________________________\n",
      " Layer (type)                Output Shape              Param #   \n",
      "=================================================================\n",
      " input_1 (InputLayer)        [(None, 224, 224, 3)]     0         \n",
      "                                                                 \n",
      " block1_conv1 (Conv2D)       (None, 224, 224, 64)      1792      \n",
      "                                                                 \n",
      " block1_conv2 (Conv2D)       (None, 224, 224, 64)      36928     \n",
      "                                                                 \n",
      " block1_pool (MaxPooling2D)  (None, 112, 112, 64)      0         \n",
      "                                                                 \n",
      " block2_conv1 (Conv2D)       (None, 112, 112, 128)     73856     \n",
      "                                                                 \n",
      " block2_conv2 (Conv2D)       (None, 112, 112, 128)     147584    \n",
      "                                                                 \n",
      " block2_pool (MaxPooling2D)  (None, 56, 56, 128)       0         \n",
      "                                                                 \n",
      " block3_conv1 (Conv2D)       (None, 56, 56, 256)       295168    \n",
      "                                                                 \n",
      " block3_conv2 (Conv2D)       (None, 56, 56, 256)       590080    \n",
      "                                                                 \n",
      " block3_conv3 (Conv2D)       (None, 56, 56, 256)       590080    \n",
      "                                                                 \n",
      " block3_conv4 (Conv2D)       (None, 56, 56, 256)       590080    \n",
      "                                                                 \n",
      " block3_pool (MaxPooling2D)  (None, 28, 28, 256)       0         \n",
      "                                                                 \n",
      " block4_conv1 (Conv2D)       (None, 28, 28, 512)       1180160   \n",
      "                                                                 \n",
      " block4_conv2 (Conv2D)       (None, 28, 28, 512)       2359808   \n",
      "                                                                 \n",
      " block4_conv3 (Conv2D)       (None, 28, 28, 512)       2359808   \n",
      "                                                                 \n",
      " block4_conv4 (Conv2D)       (None, 28, 28, 512)       2359808   \n",
      "                                                                 \n",
      " block4_pool (MaxPooling2D)  (None, 14, 14, 512)       0         \n",
      "                                                                 \n",
      " block5_conv1 (Conv2D)       (None, 14, 14, 512)       2359808   \n",
      "                                                                 \n",
      " block5_conv2 (Conv2D)       (None, 14, 14, 512)       2359808   \n",
      "                                                                 \n",
      " block5_conv3 (Conv2D)       (None, 14, 14, 512)       2359808   \n",
      "                                                                 \n",
      " block5_conv4 (Conv2D)       (None, 14, 14, 512)       2359808   \n",
      "                                                                 \n",
      " block5_pool (MaxPooling2D)  (None, 7, 7, 512)         0         \n",
      "                                                                 \n",
      "=================================================================\n",
      "Total params: 20,024,384\n",
      "Trainable params: 0\n",
      "Non-trainable params: 20,024,384\n",
      "_________________________________________________________________\n"
     ]
    }
   ],
   "source": [
    "base_model.summary()"
   ]
  },
  {
   "cell_type": "code",
   "execution_count": 17,
   "id": "51ccb4bf",
   "metadata": {},
   "outputs": [
    {
     "name": "stdout",
     "output_type": "stream",
     "text": [
      "Model: \"sequential\"\n",
      "_________________________________________________________________\n",
      " Layer (type)                Output Shape              Param #   \n",
      "=================================================================\n",
      " random_flip (RandomFlip)    (None, 224, 224, 3)       0         \n",
      "                                                                 \n",
      "=================================================================\n",
      "Total params: 0\n",
      "Trainable params: 0\n",
      "Non-trainable params: 0\n",
      "_________________________________________________________________\n"
     ]
    }
   ],
   "source": [
    "data_augmentation.summary()"
   ]
  },
  {
   "cell_type": "code",
   "execution_count": 18,
   "id": "4987b62b",
   "metadata": {},
   "outputs": [
    {
     "name": "stdout",
     "output_type": "stream",
     "text": [
      "Model: \"sequential_1\"\n",
      "_________________________________________________________________\n",
      " Layer (type)                Output Shape              Param #   \n",
      "=================================================================\n",
      " sequential (Sequential)     (None, 224, 224, 3)       0         \n",
      "                                                                 \n",
      " vgg19 (Functional)          (None, 7, 7, 512)         20024384  \n",
      "                                                                 \n",
      " flatten (Flatten)           (None, 25088)             0         \n",
      "                                                                 \n",
      " dense (Dense)               (None, 64)                1605696   \n",
      "                                                                 \n",
      " dense_1 (Dense)             (None, 16)                1040      \n",
      "                                                                 \n",
      " dense_2 (Dense)             (None, 6)                 102       \n",
      "                                                                 \n",
      "=================================================================\n",
      "Total params: 21,631,222\n",
      "Trainable params: 1,606,838\n",
      "Non-trainable params: 20,024,384\n",
      "_________________________________________________________________\n"
     ]
    }
   ],
   "source": [
    "model1.summary()"
   ]
  },
  {
   "cell_type": "markdown",
   "id": "57486b5a",
   "metadata": {},
   "source": [
    "## Vlastnosti modelu"
   ]
  },
  {
   "cell_type": "markdown",
   "id": "b25d33b1",
   "metadata": {},
   "source": [
    "### Uložení modelu"
   ]
  },
  {
   "cell_type": "code",
   "execution_count": null,
   "id": "bcf7e0b2",
   "metadata": {
    "scrolled": true
   },
   "outputs": [],
   "source": [
    "model_to_save = r\"C:\\Users\\HP\\Documents\\GIT\\models\\pretrained_base+NN(same_orientation#83,2%)\"\n",
    "model1.save(filepath=model_to_save , save_format='tf')"
   ]
  },
  {
   "cell_type": "markdown",
   "id": "c0cd48e8",
   "metadata": {},
   "source": [
    "###  Načtení modelu"
   ]
  },
  {
   "cell_type": "code",
   "execution_count": null,
   "id": "8ecd8a4c",
   "metadata": {},
   "outputs": [],
   "source": [
    "model_name = r\"C:\\Users\\HP\\Documents\\GIT\\models\\\\\"\n",
    "\n",
    "load_model = tf.keras.models.load_model(model_name)"
   ]
  },
  {
   "cell_type": "markdown",
   "id": "7c4a9bd0",
   "metadata": {},
   "source": [
    "## Vizualizace přesnosti a ztráty naučeného modelu"
   ]
  },
  {
   "cell_type": "code",
   "execution_count": null,
   "id": "485b359a",
   "metadata": {},
   "outputs": [],
   "source": [
    "print(history.history.keys())"
   ]
  },
  {
   "cell_type": "code",
   "execution_count": 19,
   "id": "8d97b3da",
   "metadata": {},
   "outputs": [],
   "source": [
    "def plot_accuracy_loss(history):\n",
    "\n",
    "    fig = plt.figure(figsize=(16,10))\n",
    "    plt.rcParams['font.size'] = '16'\n",
    "    for label in (ax.get_xticklabels() + ax.get_yticklabels()):\n",
    "        label.set_fontsize(16)\n",
    "\n",
    "    # Plot accuracy\n",
    "    plt.subplot(221)\n",
    "    plt.plot(history.history['accuracy'],'b-', label = \"Na trénovacích datech\")\n",
    "    plt.plot(history.history['val_accuracy'], 'r-', label = \"Na validačních datech\")\n",
    "    plt.ylabel(\"Správnost\",fontsize=18)\n",
    "    plt.xlabel(\"Iterace\",fontsize=18)\n",
    "    plt.legend(fontsize=16)\n",
    "\n",
    "    # Plot loss function\n",
    "    plt.subplot(222)\n",
    "    plt.plot(history.history['loss'],'b-', label = \"Na trénovacích datech\")\n",
    "    plt.plot(history.history['val_loss'], 'r-', label = \"Na validačních datech\")\n",
    "    plt.ylabel(\"Ztráta\",fontsize=18)\n",
    "    plt.xlabel(\"Iterace\",fontsize=18)\n",
    "\n",
    "    plt.legend(fontsize=16)\n",
    "    plt.show()\n",
    "    \n",
    "history_frame = pd.DataFrame(history.history)"
   ]
  },
  {
   "cell_type": "code",
   "execution_count": 20,
   "id": "c16772db",
   "metadata": {
    "scrolled": false
   },
   "outputs": [
    {
     "name": "stdout",
     "output_type": "stream",
     "text": [
      "       loss  accuracy  val_loss  val_accuracy\n",
      "0  1.288635  0.655462  1.177432      0.765957\n",
      "1  1.102764  0.756303  1.038575      0.765957\n",
      "2  1.012642  0.756303  0.978480      0.765957\n",
      "3  0.980039  0.756303  0.962629      0.765957\n",
      "4  0.960129  0.756303  0.954286      0.765957\n"
     ]
    },
    {
     "data": {
      "image/png": "[encoded data removed]",
      "text/plain": [
       "<Figure size 1152x720 with 2 Axes>"
      ]
     },
     "metadata": {
      "needs_background": "light"
     },
     "output_type": "display_data"
    }
   ],
   "source": [
    "print(history_frame.head())\n",
    "plot_accuracy_loss(history)"
   ]
  },
  {
   "cell_type": "code",
   "execution_count": 24,
   "id": "fa4d11ed",
   "metadata": {},
   "outputs": [
    {
     "name": "stdout",
     "output_type": "stream",
     "text": [
      "4/4 [==============================] - 1s 216ms/step - loss: 0.9733 - accuracy: 0.7327\n",
      "73.26732873916626%\n"
     ]
    }
   ],
   "source": [
    "test_loss, test_acc = model1.evaluate(test_ds)\n",
    "print(str(test_acc*100) + '%')"
   ]
  },
  {
   "cell_type": "markdown",
   "id": "375f445c",
   "metadata": {},
   "source": [
    "## Matice záměn (Confusion matrix)"
   ]
  },
  {
   "cell_type": "markdown",
   "id": "2537108f",
   "metadata": {},
   "source": [
    "+ https://stackoverflow.com/questions/64622210/how-to-plot-confusion-matrix-for-prefetched-dataset-in-tensorflow\n",
    "+ https://deeplizard.com/learn/video/km7pxKy4UHU"
   ]
  },
  {
   "cell_type": "code",
   "execution_count": 28,
   "id": "5a44d131",
   "metadata": {},
   "outputs": [
    {
     "data": {
      "image/png": "[encoded data removed]",
      "text/plain": [
       "<Figure size 432x288 with 2 Axes>"
      ]
     },
     "metadata": {
      "needs_background": "light"
     },
     "output_type": "display_data"
    }
   ],
   "source": [
    "# Predikované rozdělení obrázků do tříd\n",
    "image_predict = model1.predict(test_ds)\n",
    "#print(image_predict)\n",
    "image_predict = np.argmax(image_predict, axis=1)\n",
    "\n",
    "# Skutečné rozdělení obrázků\n",
    "image_true = tf.concat([y for x, y in test_ds], axis=0)\n",
    "image_true = np.argmax(image_true, axis=1)\n",
    "\n",
    "cm = confusion_matrix(y_true=image_true, y_pred=image_predict)\n",
    "\n",
    "\n",
    "def plot_confusion_matrix(cm, classes,cmap=plt.cm.Reds):\n",
    "    plt.imshow(cm, interpolation='nearest', cmap=cmap)\n",
    "    plt.colorbar()\n",
    "    tick_marks = np.arange(len(classes))\n",
    "    plt.xticks(tick_marks, classes, rotation=90,fontsize=12)\n",
    "    plt.yticks(tick_marks, classes,fontsize=12)\n",
    "\n",
    "    thresh = cm.max() / 2.\n",
    "    for i, j in itertools.product(range(cm.shape[0]), range(cm.shape[1])):\n",
    "        plt.text(j, i, cm[i, j],\n",
    "            horizontalalignment=\"center\",\n",
    "            color=\"white\" if cm[i, j] > thresh else \"black\")\n",
    "\n",
    "    plt.tight_layout()\n",
    "    plt.ylabel('Skutečnost',fontsize=15)\n",
    "    plt.xlabel('Predikce',fontsize=15)\n",
    "    \n",
    "    \n",
    "plot_confusion_matrix(cm=cm, classes=class_names)"
   ]
  },
  {
   "cell_type": "code",
   "execution_count": 26,
   "id": "1c7b8d2e",
   "metadata": {},
   "outputs": [
    {
     "name": "stdout",
     "output_type": "stream",
     "text": [
      "                   precision    recall  f1-score   support\n",
      "\n",
      "             good       0.74      0.99      0.85        73\n",
      "manipulated_front       0.50      0.20      0.29         5\n",
      "     scratch_head       0.00      0.00      0.00         5\n",
      "     scratch_neck       1.00      0.17      0.29         6\n",
      "      thread_side       0.00      0.00      0.00         6\n",
      "       thread_top       0.00      0.00      0.00         6\n",
      "\n",
      "         accuracy                           0.73       101\n",
      "        macro avg       0.37      0.23      0.24       101\n",
      "     weighted avg       0.62      0.73      0.64       101\n",
      "\n"
     ]
    },
    {
     "name": "stderr",
     "output_type": "stream",
     "text": [
      "C:\\Users\\HP\\miniconda3\\envs\\spyder-env\\lib\\site-packages\\sklearn\\metrics\\_classification.py:1318: UndefinedMetricWarning: Precision and F-score are ill-defined and being set to 0.0 in labels with no predicted samples. Use `zero_division` parameter to control this behavior.\n",
      "  _warn_prf(average, modifier, msg_start, len(result))\n",
      "C:\\Users\\HP\\miniconda3\\envs\\spyder-env\\lib\\site-packages\\sklearn\\metrics\\_classification.py:1318: UndefinedMetricWarning: Precision and F-score are ill-defined and being set to 0.0 in labels with no predicted samples. Use `zero_division` parameter to control this behavior.\n",
      "  _warn_prf(average, modifier, msg_start, len(result))\n",
      "C:\\Users\\HP\\miniconda3\\envs\\spyder-env\\lib\\site-packages\\sklearn\\metrics\\_classification.py:1318: UndefinedMetricWarning: Precision and F-score are ill-defined and being set to 0.0 in labels with no predicted samples. Use `zero_division` parameter to control this behavior.\n",
      "  _warn_prf(average, modifier, msg_start, len(result))\n"
     ]
    }
   ],
   "source": [
    "print(classification_report(image_true, image_predict, target_names=class_names))"
   ]
  }
 ],
 "metadata": {
  "kernelspec": {
   "display_name": "Python 3 (ipykernel)",
   "language": "python",
   "name": "python3"
  },
  "language_info": {
   "codemirror_mode": {
    "name": "ipython",
    "version": 3
   },
   "file_extension": ".py",
   "mimetype": "text/x-python",
   "name": "python",
   "nbconvert_exporter": "python",
   "pygments_lexer": "ipython3",
   "version": "3.9.7"
  }
 },
 "nbformat": 4,
 "nbformat_minor": 5
}
